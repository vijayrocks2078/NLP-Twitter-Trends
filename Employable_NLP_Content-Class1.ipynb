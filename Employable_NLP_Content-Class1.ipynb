{
 "cells": [
  {
   "cell_type": "markdown",
   "metadata": {},
   "source": [
    "# Important packages"
   ]
  },
  {
   "cell_type": "code",
   "execution_count": 1,
   "metadata": {},
   "outputs": [],
   "source": [
    "#import important packages\n",
    "import pandas as pd\n",
    "import os\n",
    "import re\n",
    "import string\n",
    "import nltk\n",
    "from nltk.corpus import stopwords\n",
    "pd.set_option('display.max_colwidth',100)"
   ]
  },
  {
   "cell_type": "code",
   "execution_count": 2,
   "metadata": {},
   "outputs": [
    {
     "data": {
      "text/plain": [
       "'C:\\\\Users\\\\admin'"
      ]
     },
     "execution_count": 2,
     "metadata": {},
     "output_type": "execute_result"
    }
   ],
   "source": [
    "#Check working directory\n",
    "os.getcwd()"
   ]
  },
  {
   "cell_type": "code",
   "execution_count": 3,
   "metadata": {},
   "outputs": [],
   "source": [
    "# set your working directory\n",
    "os.chdir(r'C:\\Users\\admin\\Downloads\\Course_Content\\Employable_NLP_Content')"
   ]
  },
  {
   "cell_type": "code",
   "execution_count": 4,
   "metadata": {},
   "outputs": [],
   "source": [
    "#import the twitter data\n",
    "tweet = pd.read_excel('tweets.xlsx',0)"
   ]
  },
  {
   "cell_type": "code",
   "execution_count": 5,
   "metadata": {},
   "outputs": [
    {
     "name": "stdout",
     "output_type": "stream",
     "text": [
      "Number of rows in data = 265\n",
      "Number of columns in data = 2\n",
      "\n",
      "\n",
      "**Sample data:**\n",
      "                                                                                                 Tweet  \\\n",
      "0  If the press would cover me accurately & honorably, I would have far less reason to \"tweet.\" Sad...   \n",
      "1  I am thrilled to nominate Dr. @RealBenCarson as our next Secretary of the US Dept. of Housing an...   \n",
      "2  their country (the U.S. doesn't tax them) or to build a massive military complex in the middle o...   \n",
      "3  Did China ask us if it was OK to devalue their currency (making it hard for our companies to com...   \n",
      "4  .@FoxNews will be re-running \"Objectified: Donald Trump,\" the ratings hit produced by the great ...   \n",
      "\n",
      "  Class  \n",
      "0   Yes  \n",
      "1   Yes  \n",
      "2   Yes  \n",
      "3   Yes  \n",
      "4   Yes  \n"
     ]
    }
   ],
   "source": [
    "# Check the dimension of data\n",
    "print(\"Number of rows in data =\",tweet.shape[0])\n",
    "print(\"Number of columns in data =\",tweet.shape[1])\n",
    "print(\"\\n\")\n",
    "print(\"**Sample data:**\")\n",
    "print(tweet.head())"
   ]
  },
  {
   "cell_type": "markdown",
   "metadata": {},
   "source": [
    "# Base Knowledge"
   ]
  },
  {
   "cell_type": "code",
   "execution_count": 6,
   "metadata": {},
   "outputs": [],
   "source": [
    "import nltk"
   ]
  },
  {
   "cell_type": "code",
   "execution_count": 7,
   "metadata": {},
   "outputs": [
    {
     "name": "stdout",
     "output_type": "stream",
     "text": [
      "showing info https://raw.githubusercontent.com/nltk/nltk_data/gh-pages/index.xml\n"
     ]
    },
    {
     "data": {
      "text/plain": [
       "True"
      ]
     },
     "execution_count": 7,
     "metadata": {},
     "output_type": "execute_result"
    }
   ],
   "source": [
    "# download all the data in the NLTK downloader pop up window\n",
    "nltk.download()"
   ]
  },
  {
   "cell_type": "code",
   "execution_count": 8,
   "metadata": {},
   "outputs": [],
   "source": [
    "import nltk.corpus"
   ]
  },
  {
   "cell_type": "code",
   "execution_count": 9,
   "metadata": {},
   "outputs": [
    {
     "name": "stdout",
     "output_type": "stream",
     "text": [
      "['abc', 'abc.zip', 'alpino', 'alpino.zip', 'biocreative_ppi', 'biocreative_ppi.zip', 'brown', 'brown.zip', 'brown_tei', 'brown_tei.zip', 'cess_cat', 'cess_cat.zip', 'cess_esp', 'cess_esp.zip', 'chat80', 'chat80.zip', 'city_database', 'city_database.zip', 'cmudict', 'cmudict.zip', 'comparative_sentences', 'comparative_sentences.zip', 'comtrans.zip', 'conll2000', 'conll2000.zip', 'conll2002', 'conll2002.zip', 'conll2007.zip', 'crubadan', 'crubadan.zip', 'dependency_treebank', 'dependency_treebank.zip', 'dolch', 'dolch.zip', 'europarl_raw', 'europarl_raw.zip', 'floresta', 'floresta.zip', 'framenet_v15', 'framenet_v15.zip', 'framenet_v17', 'framenet_v17.zip', 'gazetteers', 'gazetteers.zip', 'genesis', 'genesis.zip', 'gutenberg', 'gutenberg.zip', 'ieer', 'ieer.zip', 'inaugural', 'inaugural.zip', 'indian', 'indian.zip', 'jeita.zip', 'kimmo', 'kimmo.zip', 'knbc.zip', 'lin_thesaurus', 'lin_thesaurus.zip', 'machado.zip', 'mac_morpho', 'mac_morpho.zip', 'masc_tagged.zip', 'movie_reviews', 'movie_reviews.zip', 'mte_teip5', 'mte_teip5.zip', 'names', 'names.zip', 'nombank.1.0.zip', 'nonbreaking_prefixes', 'nonbreaking_prefixes.zip', 'nps_chat', 'nps_chat.zip', 'omw', 'omw.zip', 'opinion_lexicon', 'opinion_lexicon.zip', 'panlex_swadesh.zip', 'paradigms', 'paradigms.zip', 'pe08', 'pe08.zip', 'pil', 'pil.zip', 'pl196x', 'pl196x.zip', 'ppattach', 'ppattach.zip', 'problem_reports', 'problem_reports.zip', 'product_reviews_1', 'product_reviews_1.zip', 'product_reviews_2', 'product_reviews_2.zip', 'propbank.zip', 'pros_cons', 'pros_cons.zip', 'ptb', 'ptb.zip', 'qc', 'qc.zip', 'reuters.zip', 'rte', 'rte.zip', 'semcor.zip', 'senseval', 'senseval.zip', 'sentence_polarity', 'sentence_polarity.zip', 'sentiwordnet', 'sentiwordnet.zip', 'shakespeare', 'shakespeare.zip', 'sinica_treebank', 'sinica_treebank.zip', 'smultron', 'smultron.zip', 'state_union', 'state_union.zip', 'stopwords', 'stopwords.zip', 'subjectivity', 'subjectivity.zip', 'swadesh', 'swadesh.zip', 'switchboard', 'switchboard.zip', 'timit', 'timit.zip', 'toolbox', 'toolbox.zip', 'treebank', 'treebank.zip', 'twitter_samples', 'twitter_samples.zip', 'udhr', 'udhr.zip', 'udhr2', 'udhr2.zip', 'unicode_samples', 'unicode_samples.zip', 'universal_treebanks_v20.zip', 'verbnet', 'verbnet.zip', 'verbnet3', 'verbnet3.zip', 'webtext', 'webtext.zip', 'wordnet', 'wordnet.zip', 'wordnet_ic', 'wordnet_ic.zip', 'words', 'words.zip', 'ycoe', 'ycoe.zip']\n"
     ]
    }
   ],
   "source": [
    "#Different samples, words, movie review, so many files\n",
    "print(os.listdir(nltk.data.find(\"corpora\")))"
   ]
  },
  {
   "cell_type": "code",
   "execution_count": 10,
   "metadata": {},
   "outputs": [
    {
     "data": {
      "text/plain": [
       "['AbstractLazySequence',\n",
       " 'AffixTagger',\n",
       " 'AlignedSent',\n",
       " 'Alignment',\n",
       " 'AnnotationTask',\n",
       " 'ApplicationExpression',\n",
       " 'Assignment',\n",
       " 'BigramAssocMeasures',\n",
       " 'BigramCollocationFinder',\n",
       " 'BigramTagger',\n",
       " 'BinaryMaxentFeatureEncoding',\n",
       " 'BlanklineTokenizer',\n",
       " 'BllipParser',\n",
       " 'BottomUpChartParser',\n",
       " 'BottomUpLeftCornerChartParser',\n",
       " 'BottomUpProbabilisticChartParser',\n",
       " 'Boxer',\n",
       " 'BrillTagger',\n",
       " 'BrillTaggerTrainer',\n",
       " 'CFG',\n",
       " 'CRFTagger',\n",
       " 'CfgReadingCommand',\n",
       " 'ChartParser',\n",
       " 'ChunkParserI',\n",
       " 'ChunkScore',\n",
       " 'Cistem',\n",
       " 'ClassifierBasedPOSTagger',\n",
       " 'ClassifierBasedTagger',\n",
       " 'ClassifierI',\n",
       " 'ConcordanceIndex',\n",
       " 'ConditionalExponentialClassifier',\n",
       " 'ConditionalFreqDist',\n",
       " 'ConditionalProbDist',\n",
       " 'ConditionalProbDistI',\n",
       " 'ConfusionMatrix',\n",
       " 'ContextIndex',\n",
       " 'ContextTagger',\n",
       " 'ContingencyMeasures',\n",
       " 'CoreNLPDependencyParser',\n",
       " 'CoreNLPParser',\n",
       " 'Counter',\n",
       " 'CrossValidationProbDist',\n",
       " 'DRS',\n",
       " 'DecisionTreeClassifier',\n",
       " 'DefaultTagger',\n",
       " 'DependencyEvaluator',\n",
       " 'DependencyGrammar',\n",
       " 'DependencyGraph',\n",
       " 'DependencyProduction',\n",
       " 'DictionaryConditionalProbDist',\n",
       " 'DictionaryProbDist',\n",
       " 'DiscourseTester',\n",
       " 'DrtExpression',\n",
       " 'DrtGlueReadingCommand',\n",
       " 'ELEProbDist',\n",
       " 'EarleyChartParser',\n",
       " 'Expression',\n",
       " 'FStructure',\n",
       " 'FeatDict',\n",
       " 'FeatList',\n",
       " 'FeatStruct',\n",
       " 'FeatStructReader',\n",
       " 'Feature',\n",
       " 'FeatureBottomUpChartParser',\n",
       " 'FeatureBottomUpLeftCornerChartParser',\n",
       " 'FeatureChartParser',\n",
       " 'FeatureEarleyChartParser',\n",
       " 'FeatureIncrementalBottomUpChartParser',\n",
       " 'FeatureIncrementalBottomUpLeftCornerChartParser',\n",
       " 'FeatureIncrementalChartParser',\n",
       " 'FeatureIncrementalTopDownChartParser',\n",
       " 'FeatureTopDownChartParser',\n",
       " 'FreqDist',\n",
       " 'HTTPPasswordMgrWithDefaultRealm',\n",
       " 'HeldoutProbDist',\n",
       " 'HiddenMarkovModelTagger',\n",
       " 'HiddenMarkovModelTrainer',\n",
       " 'HunposTagger',\n",
       " 'IBMModel',\n",
       " 'IBMModel1',\n",
       " 'IBMModel2',\n",
       " 'IBMModel3',\n",
       " 'IBMModel4',\n",
       " 'IBMModel5',\n",
       " 'ISRIStemmer',\n",
       " 'ImmutableMultiParentedTree',\n",
       " 'ImmutableParentedTree',\n",
       " 'ImmutableProbabilisticMixIn',\n",
       " 'ImmutableProbabilisticTree',\n",
       " 'ImmutableTree',\n",
       " 'IncrementalBottomUpChartParser',\n",
       " 'IncrementalBottomUpLeftCornerChartParser',\n",
       " 'IncrementalChartParser',\n",
       " 'IncrementalLeftCornerChartParser',\n",
       " 'IncrementalTopDownChartParser',\n",
       " 'Index',\n",
       " 'InsideChartParser',\n",
       " 'JSONTaggedDecoder',\n",
       " 'JSONTaggedEncoder',\n",
       " 'KneserNeyProbDist',\n",
       " 'LancasterStemmer',\n",
       " 'LaplaceProbDist',\n",
       " 'LazyConcatenation',\n",
       " 'LazyEnumerate',\n",
       " 'LazyIteratorList',\n",
       " 'LazyMap',\n",
       " 'LazySubsequence',\n",
       " 'LazyZip',\n",
       " 'LeftCornerChartParser',\n",
       " 'LidstoneProbDist',\n",
       " 'LineTokenizer',\n",
       " 'LogicalExpressionException',\n",
       " 'LongestChartParser',\n",
       " 'MLEProbDist',\n",
       " 'MWETokenizer',\n",
       " 'Mace',\n",
       " 'MaceCommand',\n",
       " 'MaltParser',\n",
       " 'MaxentClassifier',\n",
       " 'Model',\n",
       " 'MultiClassifierI',\n",
       " 'MultiParentedTree',\n",
       " 'MutableProbDist',\n",
       " 'NaiveBayesClassifier',\n",
       " 'NaiveBayesDependencyScorer',\n",
       " 'NgramAssocMeasures',\n",
       " 'NgramTagger',\n",
       " 'NonprojectiveDependencyParser',\n",
       " 'Nonterminal',\n",
       " 'OrderedDict',\n",
       " 'PCFG',\n",
       " 'Paice',\n",
       " 'ParallelProverBuilder',\n",
       " 'ParallelProverBuilderCommand',\n",
       " 'ParentedTree',\n",
       " 'ParserI',\n",
       " 'PerceptronTagger',\n",
       " 'PhraseTable',\n",
       " 'PorterStemmer',\n",
       " 'PositiveNaiveBayesClassifier',\n",
       " 'ProbDistI',\n",
       " 'ProbabilisticDependencyGrammar',\n",
       " 'ProbabilisticMixIn',\n",
       " 'ProbabilisticNonprojectiveParser',\n",
       " 'ProbabilisticProduction',\n",
       " 'ProbabilisticProjectiveDependencyParser',\n",
       " 'ProbabilisticTree',\n",
       " 'Production',\n",
       " 'ProjectiveDependencyParser',\n",
       " 'Prover9',\n",
       " 'Prover9Command',\n",
       " 'ProxyBasicAuthHandler',\n",
       " 'ProxyDigestAuthHandler',\n",
       " 'ProxyHandler',\n",
       " 'PunktSentenceTokenizer',\n",
       " 'QuadgramAssocMeasures',\n",
       " 'QuadgramCollocationFinder',\n",
       " 'RSLPStemmer',\n",
       " 'RTEFeatureExtractor',\n",
       " 'RUS_PICKLE',\n",
       " 'RandomChartParser',\n",
       " 'RangeFeature',\n",
       " 'ReadingCommand',\n",
       " 'RecursiveDescentParser',\n",
       " 'RegexpChunkParser',\n",
       " 'RegexpParser',\n",
       " 'RegexpStemmer',\n",
       " 'RegexpTagger',\n",
       " 'RegexpTokenizer',\n",
       " 'ReppTokenizer',\n",
       " 'ResolutionProver',\n",
       " 'ResolutionProverCommand',\n",
       " 'SExprTokenizer',\n",
       " 'SLASH',\n",
       " 'Senna',\n",
       " 'SennaChunkTagger',\n",
       " 'SennaNERTagger',\n",
       " 'SennaTagger',\n",
       " 'SequentialBackoffTagger',\n",
       " 'ShiftReduceParser',\n",
       " 'SimpleGoodTuringProbDist',\n",
       " 'SklearnClassifier',\n",
       " 'SlashFeature',\n",
       " 'SnowballStemmer',\n",
       " 'SpaceTokenizer',\n",
       " 'StackDecoder',\n",
       " 'StanfordNERTagger',\n",
       " 'StanfordPOSTagger',\n",
       " 'StanfordSegmenter',\n",
       " 'StanfordTagger',\n",
       " 'StemmerI',\n",
       " 'SteppingChartParser',\n",
       " 'SteppingRecursiveDescentParser',\n",
       " 'SteppingShiftReduceParser',\n",
       " 'SyllableTokenizer',\n",
       " 'TYPE',\n",
       " 'TabTokenizer',\n",
       " 'TableauProver',\n",
       " 'TableauProverCommand',\n",
       " 'TaggerI',\n",
       " 'TestGrammar',\n",
       " 'Text',\n",
       " 'TextCat',\n",
       " 'TextCollection',\n",
       " 'TextTilingTokenizer',\n",
       " 'TnT',\n",
       " 'TokenSearcher',\n",
       " 'ToktokTokenizer',\n",
       " 'TopDownChartParser',\n",
       " 'TransitionParser',\n",
       " 'Tree',\n",
       " 'TreebankWordTokenizer',\n",
       " 'Trie',\n",
       " 'TrigramAssocMeasures',\n",
       " 'TrigramCollocationFinder',\n",
       " 'TrigramTagger',\n",
       " 'TweetTokenizer',\n",
       " 'TypedMaxentFeatureEncoding',\n",
       " 'Undefined',\n",
       " 'UniformProbDist',\n",
       " 'UnigramTagger',\n",
       " 'UnsortedChartParser',\n",
       " 'Valuation',\n",
       " 'Variable',\n",
       " 'ViterbiParser',\n",
       " 'WekaClassifier',\n",
       " 'WhitespaceTokenizer',\n",
       " 'WittenBellProbDist',\n",
       " 'WordNetLemmatizer',\n",
       " 'WordPunctTokenizer',\n",
       " '__author__',\n",
       " '__author_email__',\n",
       " '__builtins__',\n",
       " '__cached__',\n",
       " '__classifiers__',\n",
       " '__copyright__',\n",
       " '__doc__',\n",
       " '__file__',\n",
       " '__keywords__',\n",
       " '__license__',\n",
       " '__loader__',\n",
       " '__longdescr__',\n",
       " '__maintainer__',\n",
       " '__maintainer_email__',\n",
       " '__name__',\n",
       " '__package__',\n",
       " '__path__',\n",
       " '__spec__',\n",
       " '__url__',\n",
       " '__version__',\n",
       " 'absolute_import',\n",
       " 'accuracy',\n",
       " 'add_logs',\n",
       " 'agreement',\n",
       " 'align',\n",
       " 'alignment_error_rate',\n",
       " 'aline',\n",
       " 'api',\n",
       " 'app',\n",
       " 'apply_features',\n",
       " 'approxrand',\n",
       " 'arity',\n",
       " 'association',\n",
       " 'bigrams',\n",
       " 'binary_distance',\n",
       " 'binary_search_file',\n",
       " 'binding_ops',\n",
       " 'bisect',\n",
       " 'blankline_tokenize',\n",
       " 'bleu',\n",
       " 'bleu_score',\n",
       " 'bllip',\n",
       " 'boolean_ops',\n",
       " 'boxer',\n",
       " 'bracket_parse',\n",
       " 'breadth_first',\n",
       " 'brill',\n",
       " 'brill_trainer',\n",
       " 'build_opener',\n",
       " 'call_megam',\n",
       " 'casual',\n",
       " 'casual_tokenize',\n",
       " 'ccg',\n",
       " 'chain',\n",
       " 'chart',\n",
       " 'chat',\n",
       " 'choose',\n",
       " 'chunk',\n",
       " 'cistem',\n",
       " 'class_types',\n",
       " 'classify',\n",
       " 'clause',\n",
       " 'clean_html',\n",
       " 'clean_url',\n",
       " 'cluster',\n",
       " 'collections',\n",
       " 'collocations',\n",
       " 'combinations',\n",
       " 'compat',\n",
       " 'config_java',\n",
       " 'config_megam',\n",
       " 'config_weka',\n",
       " 'conflicts',\n",
       " 'confusionmatrix',\n",
       " 'conllstr2tree',\n",
       " 'conlltags2tree',\n",
       " 'corenlp',\n",
       " 'corpus',\n",
       " 'crf',\n",
       " 'custom_distance',\n",
       " 'data',\n",
       " 'decisiontree',\n",
       " 'decorator',\n",
       " 'decorators',\n",
       " 'defaultdict',\n",
       " 'demo',\n",
       " 'dependencygraph',\n",
       " 'deque',\n",
       " 'discourse',\n",
       " 'distance',\n",
       " 'download',\n",
       " 'download_gui',\n",
       " 'download_shell',\n",
       " 'downloader',\n",
       " 'draw',\n",
       " 'drt',\n",
       " 'earleychart',\n",
       " 'edit_distance',\n",
       " 'edit_distance_align',\n",
       " 'elementtree_indent',\n",
       " 'entropy',\n",
       " 'equality_preds',\n",
       " 'evaluate',\n",
       " 'evaluate_sents',\n",
       " 'everygrams',\n",
       " 'extract_rels',\n",
       " 'extract_test_sentences',\n",
       " 'f_measure',\n",
       " 'featstruct',\n",
       " 'featurechart',\n",
       " 'filestring',\n",
       " 'find',\n",
       " 'flatten',\n",
       " 'fractional_presence',\n",
       " 'getproxies',\n",
       " 'ghd',\n",
       " 'glue',\n",
       " 'grammar',\n",
       " 'guess_encoding',\n",
       " 'help',\n",
       " 'hmm',\n",
       " 'hunpos',\n",
       " 'ibm1',\n",
       " 'ibm2',\n",
       " 'ibm3',\n",
       " 'ibm4',\n",
       " 'ibm5',\n",
       " 'ibm_model',\n",
       " 'ieerstr2tree',\n",
       " 'improved_close_quote_regex',\n",
       " 'improved_open_quote_regex',\n",
       " 'improved_open_single_quote_regex',\n",
       " 'improved_punct_regex',\n",
       " 'in_idle',\n",
       " 'induce_pcfg',\n",
       " 'inference',\n",
       " 'infile',\n",
       " 'inspect',\n",
       " 'install_opener',\n",
       " 'internals',\n",
       " 'interpret_sents',\n",
       " 'interval_distance',\n",
       " 'invert_dict',\n",
       " 'invert_graph',\n",
       " 'is_rel',\n",
       " 'islice',\n",
       " 'isri',\n",
       " 'jaccard_distance',\n",
       " 'json_tags',\n",
       " 'jsontags',\n",
       " 'lancaster',\n",
       " 'lazyimport',\n",
       " 'lfg',\n",
       " 'line_tokenize',\n",
       " 'linearlogic',\n",
       " 'lm',\n",
       " 'load',\n",
       " 'load_parser',\n",
       " 'locale',\n",
       " 'log_likelihood',\n",
       " 'logic',\n",
       " 'mace',\n",
       " 'malt',\n",
       " 'map_tag',\n",
       " 'mapping',\n",
       " 'masi_distance',\n",
       " 'maxent',\n",
       " 'megam',\n",
       " 'memoize',\n",
       " 'meteor',\n",
       " 'meteor_score',\n",
       " 'metrics',\n",
       " 'misc',\n",
       " 'mwe',\n",
       " 'naivebayes',\n",
       " 'ne_chunk',\n",
       " 'ne_chunk_sents',\n",
       " 'ngrams',\n",
       " 'nonprojectivedependencyparser',\n",
       " 'nonterminals',\n",
       " 'numpy',\n",
       " 'os',\n",
       " 'pad_sequence',\n",
       " 'paice',\n",
       " 'parse',\n",
       " 'parse_sents',\n",
       " 'pchart',\n",
       " 'perceptron',\n",
       " 'pk',\n",
       " 'porter',\n",
       " 'pos_tag',\n",
       " 'pos_tag_sents',\n",
       " 'positivenaivebayes',\n",
       " 'pprint',\n",
       " 'pr',\n",
       " 'precision',\n",
       " 'presence',\n",
       " 'print_function',\n",
       " 'print_string',\n",
       " 'probability',\n",
       " 'projectivedependencyparser',\n",
       " 'prover9',\n",
       " 'punkt',\n",
       " 'py25',\n",
       " 'py26',\n",
       " 'py27',\n",
       " 'pydoc',\n",
       " 'python_2_unicode_compatible',\n",
       " 'raise_unorderable_types',\n",
       " 'ranks_from_scores',\n",
       " 'ranks_from_sequence',\n",
       " 're',\n",
       " 're_show',\n",
       " 'read_grammar',\n",
       " 'read_logic',\n",
       " 'read_valuation',\n",
       " 'recall',\n",
       " 'recursivedescent',\n",
       " 'regexp',\n",
       " 'regexp_span_tokenize',\n",
       " 'regexp_tokenize',\n",
       " 'register_tag',\n",
       " 'relextract',\n",
       " 'repp',\n",
       " 'resolution',\n",
       " 'ribes',\n",
       " 'ribes_score',\n",
       " 'root_semrep',\n",
       " 'rslp',\n",
       " 'rte_classifier',\n",
       " 'rte_classify',\n",
       " 'rte_features',\n",
       " 'rtuple',\n",
       " 'scikitlearn',\n",
       " 'scores',\n",
       " 'segmentation',\n",
       " 'sem',\n",
       " 'senna',\n",
       " 'sent_tokenize',\n",
       " 'sequential',\n",
       " 'set2rel',\n",
       " 'set_proxy',\n",
       " 'sexpr',\n",
       " 'sexpr_tokenize',\n",
       " 'shiftreduce',\n",
       " 'simple',\n",
       " 'sinica_parse',\n",
       " 'skipgrams',\n",
       " 'skolemize',\n",
       " 'slice_bounds',\n",
       " 'snowball',\n",
       " 'sonority_sequencing',\n",
       " 'spearman',\n",
       " 'spearman_correlation',\n",
       " 'stack_decoder',\n",
       " 'stanford',\n",
       " 'stanford_segmenter',\n",
       " 'stem',\n",
       " 'str2tuple',\n",
       " 'string_span_tokenize',\n",
       " 'string_types',\n",
       " 'subprocess',\n",
       " 'subsumes',\n",
       " 'sum_logs',\n",
       " 'sys',\n",
       " 'tableau',\n",
       " 'tadm',\n",
       " 'tag',\n",
       " 'tagset_mapping',\n",
       " 'tagstr2tree',\n",
       " 'tbl',\n",
       " 'text',\n",
       " 'text_type',\n",
       " 'textcat',\n",
       " 'texttiling',\n",
       " 'textwrap',\n",
       " 'tkinter',\n",
       " 'tnt',\n",
       " 'tokenize',\n",
       " 'tokenwrap',\n",
       " 'toktok',\n",
       " 'toolbox',\n",
       " 'total_ordering',\n",
       " 'transitionparser',\n",
       " 'transitive_closure',\n",
       " 'translate',\n",
       " 'tree',\n",
       " 'tree2conllstr',\n",
       " 'tree2conlltags',\n",
       " 'treebank',\n",
       " 'treetransforms',\n",
       " 'trigrams',\n",
       " 'tuple2str',\n",
       " 'types',\n",
       " 'unify',\n",
       " 'unique_list',\n",
       " 'untag',\n",
       " 'usage',\n",
       " 'util',\n",
       " 'version_file',\n",
       " 'version_info',\n",
       " 'viterbi',\n",
       " 'weka',\n",
       " 'windowdiff',\n",
       " 'word_tokenize',\n",
       " 'wordnet',\n",
       " 'wordpunct_tokenize',\n",
       " 'wsd']"
      ]
     },
     "execution_count": 10,
     "metadata": {},
     "output_type": "execute_result"
    }
   ],
   "source": [
    "# viewing all the functions, attributes, and methods within nltk package\n",
    "dir(nltk)"
   ]
  },
  {
   "cell_type": "markdown",
   "metadata": {},
   "source": [
    "# Tokenization"
   ]
  },
  {
   "cell_type": "code",
   "execution_count": 11,
   "metadata": {},
   "outputs": [
    {
     "name": "stdout",
     "output_type": "stream",
     "text": [
      "['All', 'work', 'and', 'no', 'play', 'makes', 'jack', 'a', 'dull', 'boy', '.', 'All', 'work', 'and', 'no', 'play']\n"
     ]
    }
   ],
   "source": [
    "# Tokenize the data\n",
    "#A sentence or data can be split into words using the method word_tokenize():\n",
    "from nltk.tokenize import sent_tokenize, word_tokenize\n",
    " \n",
    "data = \"All work and no play makes jack a dull boy. All work and no play\"\n",
    "print(word_tokenize(data))"
   ]
  },
  {
   "cell_type": "code",
   "execution_count": 12,
   "metadata": {},
   "outputs": [
    {
     "name": "stdout",
     "output_type": "stream",
     "text": [
      "['All work and no play makes jack a dull boy.', 'All work and no play']\n"
     ]
    }
   ],
   "source": [
    "#Tokenizing sentences\n",
    "from nltk.tokenize import sent_tokenize, word_tokenize\n",
    " \n",
    "data = \"All work and no play makes jack a dull boy. All work and no play\"\n",
    "print(sent_tokenize(data))"
   ]
  },
  {
   "cell_type": "code",
   "execution_count": 13,
   "metadata": {},
   "outputs": [
    {
     "name": "stdout",
     "output_type": "stream",
     "text": [
      "['All work and no play makes jack a dull boy.', 'All work and no play']\n",
      " \n",
      "['All', 'work', 'and', 'no', 'play', 'makes', 'jack', 'a', 'dull', 'boy', '.', 'All', 'work', 'and', 'no', 'play']\n"
     ]
    }
   ],
   "source": [
    "#If you wish to you can store the words and sentences in arrays:\n",
    "from nltk.tokenize import sent_tokenize, word_tokenize\n",
    " \n",
    "data = \"All work and no play makes jack a dull boy. All work and no play\"\n",
    " \n",
    "phrases = sent_tokenize(data)\n",
    "words = word_tokenize(data)\n",
    " \n",
    "print(phrases)\n",
    "print(' ')\n",
    "print(words)"
   ]
  },
  {
   "cell_type": "markdown",
   "metadata": {},
   "source": [
    "# N Gram"
   ]
  },
  {
   "cell_type": "code",
   "execution_count": 14,
   "metadata": {},
   "outputs": [],
   "source": [
    "import nltk\n",
    "from nltk import ngrams"
   ]
  },
  {
   "cell_type": "code",
   "execution_count": 15,
   "metadata": {},
   "outputs": [],
   "source": [
    "sentence = 'this is a foo bar sentences and i want to ngramize it'\n"
   ]
  },
  {
   "cell_type": "code",
   "execution_count": 16,
   "metadata": {},
   "outputs": [],
   "source": [
    "n = 2\n",
    "bigrams = ngrams(sentence.split(), n)"
   ]
  },
  {
   "cell_type": "code",
   "execution_count": 17,
   "metadata": {},
   "outputs": [
    {
     "name": "stdout",
     "output_type": "stream",
     "text": [
      "('this', 'is')\n",
      "('is', 'a')\n",
      "('a', 'foo')\n",
      "('foo', 'bar')\n",
      "('bar', 'sentences')\n",
      "('sentences', 'and')\n",
      "('and', 'i')\n",
      "('i', 'want')\n",
      "('want', 'to')\n",
      "('to', 'ngramize')\n",
      "('ngramize', 'it')\n"
     ]
    }
   ],
   "source": [
    "for grams in bigrams:\n",
    "  print (grams)"
   ]
  },
  {
   "cell_type": "markdown",
   "metadata": {},
   "source": [
    "# Frequency Distribution"
   ]
  },
  {
   "cell_type": "code",
   "execution_count": 18,
   "metadata": {},
   "outputs": [
    {
     "data": {
      "text/plain": [
       "16"
      ]
     },
     "execution_count": 18,
     "metadata": {},
     "output_type": "execute_result"
    }
   ],
   "source": [
    "len(words)"
   ]
  },
  {
   "cell_type": "code",
   "execution_count": 19,
   "metadata": {},
   "outputs": [],
   "source": [
    "from nltk.probability import FreqDist\n",
    "fdist = FreqDist()"
   ]
  },
  {
   "cell_type": "code",
   "execution_count": 20,
   "metadata": {},
   "outputs": [
    {
     "data": {
      "text/plain": [
       "FreqDist({'all': 2, 'work': 2, 'and': 2, 'no': 2, 'play': 2, 'makes': 1, 'jack': 1, 'a': 1, 'dull': 1, 'boy': 1, ...})"
      ]
     },
     "execution_count": 20,
     "metadata": {},
     "output_type": "execute_result"
    }
   ],
   "source": [
    "for word in words:\n",
    "    fdist[word.lower()]+=1\n",
    "fdist"
   ]
  },
  {
   "cell_type": "code",
   "execution_count": 21,
   "metadata": {},
   "outputs": [
    {
     "data": {
      "text/plain": [
       "[('all', 2),\n",
       " ('work', 2),\n",
       " ('and', 2),\n",
       " ('no', 2),\n",
       " ('play', 2),\n",
       " ('makes', 1),\n",
       " ('jack', 1),\n",
       " ('a', 1),\n",
       " ('dull', 1),\n",
       " ('boy', 1),\n",
       " ('.', 1)]"
      ]
     },
     "execution_count": 21,
     "metadata": {},
     "output_type": "execute_result"
    }
   ],
   "source": [
    "fdist.most_common(50)"
   ]
  },
  {
   "cell_type": "markdown",
   "metadata": {},
   "source": [
    "# StopWords"
   ]
  },
  {
   "cell_type": "code",
   "execution_count": 22,
   "metadata": {},
   "outputs": [
    {
     "data": {
      "text/plain": [
       "['i', 'herself', 'been', 'with', 'here', 'very', 'doesn', 'won']"
      ]
     },
     "execution_count": 22,
     "metadata": {},
     "output_type": "execute_result"
    }
   ],
   "source": [
    "# an example to view the stopwords in nltk library\n",
    "from nltk.corpus import stopwords\n",
    "\n",
    "# view all the stopwords in english langauge with an incremenet of 25 up to 500 words\n",
    "stopwords.words(\"english\")[0:500:25]"
   ]
  },
  {
   "cell_type": "code",
   "execution_count": 23,
   "metadata": {},
   "outputs": [
    {
     "name": "stdout",
     "output_type": "stream",
     "text": [
      "['This', 'is', 'a', 'sample', 'sentence', ',', 'showing', 'off', 'the', 'stop', 'words', 'filtration', '.']\n"
     ]
    }
   ],
   "source": [
    "from nltk.corpus import stopwords\n",
    "from nltk.tokenize import word_tokenize\n",
    "\n",
    "example_sent = \"This is a sample sentence, showing off the stop words filtration.\"\n",
    "\n",
    "stop_words = set(stopwords.words('english'))\n",
    "\n",
    "word_tokens = word_tokenize(example_sent)\n",
    "print(word_tokens)"
   ]
  },
  {
   "cell_type": "code",
   "execution_count": 24,
   "metadata": {},
   "outputs": [
    {
     "name": "stdout",
     "output_type": "stream",
     "text": [
      "['This', 'sample', 'sentence', ',', 'showing', 'stop', 'words', 'filtration', '.']\n"
     ]
    }
   ],
   "source": [
    "filtered_sentence = []\n",
    "\n",
    "for w in word_tokens:\n",
    "    if w not in stop_words:\n",
    "        filtered_sentence.append(w)\n",
    "\n",
    "print(filtered_sentence)"
   ]
  },
  {
   "cell_type": "code",
   "execution_count": 25,
   "metadata": {},
   "outputs": [
    {
     "data": {
      "text/plain": [
       "['This',\n",
       " 'sample',\n",
       " 'sentence',\n",
       " ',',\n",
       " 'showing',\n",
       " 'stop',\n",
       " 'words',\n",
       " 'filtration',\n",
       " '.']"
      ]
     },
     "execution_count": 25,
     "metadata": {},
     "output_type": "execute_result"
    }
   ],
   "source": [
    "filtered_sentence = [w for w in word_tokens if not w in stop_words]\n",
    "filtered_sentence"
   ]
  },
  {
   "cell_type": "markdown",
   "metadata": {},
   "source": [
    "# Remove Punctuation"
   ]
  },
  {
   "cell_type": "code",
   "execution_count": 26,
   "metadata": {},
   "outputs": [
    {
     "data": {
      "text/plain": [
       "'!\"#$%&\\'()*+,-./:;<=>?@[\\\\]^_`{|}~'"
      ]
     },
     "execution_count": 26,
     "metadata": {},
     "output_type": "execute_result"
    }
   ],
   "source": [
    "import string\n",
    "from string import punctuation\n",
    "string.punctuation"
   ]
  },
  {
   "cell_type": "code",
   "execution_count": 27,
   "metadata": {},
   "outputs": [
    {
     "name": "stdout",
     "output_type": "stream",
     "text": [
      "Hello how are you doing\n"
     ]
    }
   ],
   "source": [
    "def strip_punctuation(s):\n",
    "    return ''.join(c for c in s if c not in punctuation)\n",
    "text = \"Hello!+ how <are> you\\\\ doing|?\"\n",
    "print (strip_punctuation(text))"
   ]
  },
  {
   "cell_type": "markdown",
   "metadata": {},
   "source": [
    "# Remove Tags"
   ]
  },
  {
   "cell_type": "code",
   "execution_count": 28,
   "metadata": {},
   "outputs": [
    {
     "name": "stdout",
     "output_type": "stream",
     "text": [
      "hello world!\n"
     ]
    }
   ],
   "source": [
    "import re\n",
    "text = \"\"\"<head><body>hello world!</body></head>\"\"\"\n",
    "cleaned_text = re.sub('<[^<]+?>','', text)\n",
    "print (cleaned_text)"
   ]
  },
  {
   "cell_type": "markdown",
   "metadata": {},
   "source": [
    "# Removing Numbers"
   ]
  },
  {
   "cell_type": "code",
   "execution_count": 29,
   "metadata": {},
   "outputs": [
    {
     "name": "stdout",
     "output_type": "stream",
     "text": [
      "There was  people standing right next to me at pm.\n"
     ]
    }
   ],
   "source": [
    "text = \"There was 200 people standing right next to me at 2pm.\"\n",
    "output = ''.join(c for c in text if not c.isdigit())\n",
    "print(output)"
   ]
  },
  {
   "cell_type": "markdown",
   "metadata": {},
   "source": [
    "# Regular Expression"
   ]
  },
  {
   "cell_type": "markdown",
   "metadata": {},
   "source": [
    "<table ><tr><th>Character</th><th>Description</th><th>Example Pattern Code</th><th >Exammple Match</th></tr>\n",
    "\n",
    "<tr ><td><span >\\d</span></td><td>A digit</td><td>file_\\d\\d</td><td>file_25</td></tr>\n",
    "\n",
    "<tr ><td><span >\\w</span></td><td>Alphanumeric</td><td>\\w-\\w\\w\\w</td><td>A-b_1</td></tr>\n",
    "\n",
    "\n",
    "\n",
    "<tr ><td><span >\\s</span></td><td>White space</td><td>a\\sb\\sc</td><td>a b c</td></tr>\n",
    "\n",
    "\n",
    "\n",
    "<tr ><td><span >\\D</span></td><td>A non digit</td><td>\\D\\D\\D</td><td>ABC</td></tr>\n",
    "\n",
    "<tr ><td><span >\\W</span></td><td>Non-alphanumeric</td><td>\\W\\W\\W\\W\\W</td><td>*-+=)</td></tr>\n",
    "\n",
    "<tr ><td><span >\\S</span></td><td>Non-whitespace</td><td>\\S\\S\\S\\S</td><td>Yoyo</td></tr></table>"
   ]
  },
  {
   "cell_type": "code",
   "execution_count": 30,
   "metadata": {},
   "outputs": [],
   "source": [
    "# importing regex package\n",
    "import re\n",
    "\n",
    "text = 'Emploab11, study is fun'"
   ]
  },
  {
   "cell_type": "code",
   "execution_count": 31,
   "metadata": {},
   "outputs": [],
   "source": [
    "#\"^\"   : This expression matches the start of a string\n",
    "# w   : will give the first character of the first letter\n",
    "#\"w+\" : This expression matches the alphanumeric character in the string\n",
    "#\"s\"  : This expression is used for creating a space in the string"
   ]
  },
  {
   "cell_type": "code",
   "execution_count": 32,
   "metadata": {},
   "outputs": [
    {
     "name": "stdout",
     "output_type": "stream",
     "text": [
      "['E']\n",
      "['Emploab11']\n",
      "['Emploab11,', 'study', 'is', 'fun']\n"
     ]
    }
   ],
   "source": [
    "print(re.findall('^\\w', text)) \n",
    "print(re.findall('^\\w+', text))\n",
    "print(re.split('\\s', text))"
   ]
  },
  {
   "cell_type": "code",
   "execution_count": 33,
   "metadata": {},
   "outputs": [],
   "source": [
    "# sample sentences \n",
    "re_test_messy = 'This      is a made up     string to test 2    different regex methods'\n",
    "re_test_messy1 = 'This-is-a-made/up.string*to>>>>test----2\"\"\"\"\"\"different~regex-methods'"
   ]
  },
  {
   "cell_type": "code",
   "execution_count": 34,
   "metadata": {},
   "outputs": [
    {
     "data": {
      "text/plain": [
       "['This',\n",
       " '',\n",
       " '',\n",
       " '',\n",
       " '',\n",
       " '',\n",
       " 'is',\n",
       " 'a',\n",
       " 'made',\n",
       " 'up',\n",
       " '',\n",
       " '',\n",
       " '',\n",
       " '',\n",
       " 'string',\n",
       " 'to',\n",
       " 'test',\n",
       " '2',\n",
       " '',\n",
       " '',\n",
       " '',\n",
       " 'different',\n",
       " 'regex',\n",
       " 'methods']"
      ]
     },
     "execution_count": 34,
     "metadata": {},
     "output_type": "execute_result"
    }
   ],
   "source": [
    "# \\s means single whitespace\n",
    "re.split('\\s', re_test_messy)"
   ]
  },
  {
   "cell_type": "code",
   "execution_count": 35,
   "metadata": {},
   "outputs": [
    {
     "data": {
      "text/plain": [
       "['This',\n",
       " 'is',\n",
       " 'a',\n",
       " 'made',\n",
       " 'up',\n",
       " 'string',\n",
       " 'to',\n",
       " 'test',\n",
       " '2',\n",
       " 'different',\n",
       " 'regex',\n",
       " 'methods']"
      ]
     },
     "execution_count": 35,
     "metadata": {},
     "output_type": "execute_result"
    }
   ],
   "source": [
    "# \\s+ means multiple (one or more) whitespaces  \n",
    "re.split('\\s+', re_test_messy)"
   ]
  },
  {
   "cell_type": "code",
   "execution_count": 36,
   "metadata": {},
   "outputs": [
    {
     "data": {
      "text/plain": [
       "['This-is-a-made/up.string*to>>>>test----2\"\"\"\"\"\"different~regex-methods']"
      ]
     },
     "execution_count": 36,
     "metadata": {},
     "output_type": "execute_result"
    }
   ],
   "source": [
    "# \\s+ means multiple (one or more) whitespaces  \n",
    "re.split('\\s+', re_test_messy1) # will not work as there are no whitespace in the string"
   ]
  },
  {
   "cell_type": "code",
   "execution_count": 37,
   "metadata": {},
   "outputs": [
    {
     "data": {
      "text/plain": [
       "['This',\n",
       " 'is',\n",
       " 'a',\n",
       " 'made',\n",
       " 'up',\n",
       " 'string',\n",
       " 'to',\n",
       " 'test',\n",
       " '2',\n",
       " 'different',\n",
       " 'regex',\n",
       " 'methods']"
      ]
     },
     "execution_count": 37,
     "metadata": {},
     "output_type": "execute_result"
    }
   ],
   "source": [
    "# \\W+ means multiple (one or more) non-word characters (Method 1: splitting charachters by searching the words)\n",
    "re.split('\\W+', re_test_messy1)"
   ]
  },
  {
   "cell_type": "code",
   "execution_count": 38,
   "metadata": {},
   "outputs": [
    {
     "data": {
      "text/plain": [
       "['This',\n",
       " 'is',\n",
       " 'a',\n",
       " 'made',\n",
       " 'up',\n",
       " 'string',\n",
       " 'to',\n",
       " 'test',\n",
       " '2',\n",
       " 'different',\n",
       " 'regex',\n",
       " 'methods']"
      ]
     },
     "execution_count": 38,
     "metadata": {},
     "output_type": "execute_result"
    }
   ],
   "source": [
    "# \\S+ means multiple (one or more) non-whitespace words (Method 2: ignoring charachters which split the words)\n",
    "re.findall('\\S+', re_test_messy)"
   ]
  },
  {
   "cell_type": "code",
   "execution_count": 39,
   "metadata": {},
   "outputs": [
    {
     "data": {
      "text/plain": [
       "['This',\n",
       " 'is',\n",
       " 'a',\n",
       " 'made',\n",
       " 'up',\n",
       " 'string',\n",
       " 'to',\n",
       " 'test',\n",
       " '2',\n",
       " 'different',\n",
       " 'regex',\n",
       " 'methods']"
      ]
     },
     "execution_count": 39,
     "metadata": {},
     "output_type": "execute_result"
    }
   ],
   "source": [
    "# \\w+ means multiple (one or more) non-word characters (Method 2: ignoring charachters which split the words)\n",
    "re.findall('\\w+', re_test_messy1)"
   ]
  },
  {
   "cell_type": "markdown",
   "metadata": {},
   "source": [
    "### Starts With and Ends With\n",
    "\n",
    "We can use the **^** to signal starts with, and the **$** to signal ends with:"
   ]
  },
  {
   "cell_type": "code",
   "execution_count": 40,
   "metadata": {},
   "outputs": [
    {
     "data": {
      "text/plain": [
       "['2']"
      ]
     },
     "execution_count": 40,
     "metadata": {},
     "output_type": "execute_result"
    }
   ],
   "source": [
    "# Ends with a number\n",
    "re.findall(r'\\d$','This ends with a number 2')"
   ]
  },
  {
   "cell_type": "code",
   "execution_count": 41,
   "metadata": {},
   "outputs": [
    {
     "data": {
      "text/plain": [
       "['1']"
      ]
     },
     "execution_count": 41,
     "metadata": {},
     "output_type": "execute_result"
    }
   ],
   "source": [
    "# Starts with a number\n",
    "re.findall(r'^\\d','1 is the loneliest number.')"
   ]
  },
  {
   "cell_type": "markdown",
   "metadata": {},
   "source": [
    "# Repalcing a specific string"
   ]
  },
  {
   "cell_type": "code",
   "execution_count": 42,
   "metadata": {},
   "outputs": [],
   "source": [
    "pep8_test = 'I try to follow PEP8 guidelines'\n",
    "pep7_test = 'I try to follow PEP7 guidelines'\n",
    "peep8_test = 'I try to follow PEEP8 guidelines'"
   ]
  },
  {
   "cell_type": "code",
   "execution_count": 43,
   "metadata": {},
   "outputs": [
    {
     "data": {
      "text/plain": [
       "['try', 'to', 'follow', 'guidelines']"
      ]
     },
     "execution_count": 43,
     "metadata": {},
     "output_type": "execute_result"
    }
   ],
   "source": [
    "# using findall to find words which contains characters from a-z \n",
    "re.findall('[a-z]+', pep8_test) # regex is case sensitive"
   ]
  },
  {
   "cell_type": "code",
   "execution_count": 44,
   "metadata": {},
   "outputs": [
    {
     "data": {
      "text/plain": [
       "['I', 'PEP']"
      ]
     },
     "execution_count": 44,
     "metadata": {},
     "output_type": "execute_result"
    }
   ],
   "source": [
    "# using findall to find words which contains characters from A-Z  \n",
    "re.findall('[A-Z]+', pep8_test) # regex is case sensitive"
   ]
  },
  {
   "cell_type": "code",
   "execution_count": 45,
   "metadata": {},
   "outputs": [
    {
     "data": {
      "text/plain": [
       "['I', 'PEP8']"
      ]
     },
     "execution_count": 45,
     "metadata": {},
     "output_type": "execute_result"
    }
   ],
   "source": [
    "# using findall get PEP8 word. [A-Z0-9] means finding charachters containing upper case letters OR numbers\n",
    "re.findall('[A-Z0-9]+', pep8_test)"
   ]
  },
  {
   "cell_type": "code",
   "execution_count": 46,
   "metadata": {},
   "outputs": [
    {
     "data": {
      "text/plain": [
       "['PEP8']"
      ]
     },
     "execution_count": 46,
     "metadata": {},
     "output_type": "execute_result"
    }
   ],
   "source": [
    "# using findall to get only the PEP8 word. [A-Z][0-9] means finding charachters containing upper case letters AND numbers\n",
    "re.findall('[A-Z]+[0-9]+', pep8_test)"
   ]
  },
  {
   "cell_type": "code",
   "execution_count": 47,
   "metadata": {},
   "outputs": [
    {
     "data": {
      "text/plain": [
       "['PEP7']"
      ]
     },
     "execution_count": 47,
     "metadata": {},
     "output_type": "execute_result"
    }
   ],
   "source": [
    "# using findall to get only the PEP8 word. [A-Z][0-9] means finding charachters containing upper case letters AND numbers\n",
    "re.findall('[A-Z]+[0-9]+', pep7_test)"
   ]
  },
  {
   "cell_type": "code",
   "execution_count": 48,
   "metadata": {},
   "outputs": [
    {
     "data": {
      "text/plain": [
       "['PEEP8']"
      ]
     },
     "execution_count": 48,
     "metadata": {},
     "output_type": "execute_result"
    }
   ],
   "source": [
    "# using findall to get only the PEP8 word. [A-Z][0-9] means finding charachters containing upper case letters AND numbers\n",
    "re.findall('[A-Z]+[0-9]+', peep8_test)"
   ]
  },
  {
   "cell_type": "code",
   "execution_count": 49,
   "metadata": {},
   "outputs": [
    {
     "data": {
      "text/plain": [
       "'I try to follow PEP8 Python style guidelines'"
      ]
     },
     "execution_count": 49,
     "metadata": {},
     "output_type": "execute_result"
    }
   ],
   "source": [
    "# replacing PEP7 and PEEP8 by PEP using the above regex pattern in pep7_test and peep8_test using sub function\n",
    "re.sub('[A-Z]+[0-9]+', 'PEP8 Python style', pep8_test)"
   ]
  },
  {
   "cell_type": "code",
   "execution_count": 50,
   "metadata": {},
   "outputs": [
    {
     "data": {
      "text/plain": [
       "'I try to follow PEP8 Python style guidelines'"
      ]
     },
     "execution_count": 50,
     "metadata": {},
     "output_type": "execute_result"
    }
   ],
   "source": [
    "re.sub('[A-Z]+[0-9]+', 'PEP8 Python style', pep7_test)"
   ]
  },
  {
   "cell_type": "code",
   "execution_count": 51,
   "metadata": {},
   "outputs": [
    {
     "data": {
      "text/plain": [
       "'I try to follow PEP8 Python style guidelines'"
      ]
     },
     "execution_count": 51,
     "metadata": {},
     "output_type": "execute_result"
    }
   ],
   "source": [
    "re.sub('[A-Z]+[0-9]+', 'PEP8 Python style', peep8_test)"
   ]
  },
  {
   "cell_type": "code",
   "execution_count": 52,
   "metadata": {},
   "outputs": [
    {
     "name": "stdout",
     "output_type": "stream",
     "text": [
      "<re.Match object; span=(0, 2), match='Xy'>\n",
      "<re.Match object; span=(0, 3), match='XYZ'>\n"
     ]
    }
   ],
   "source": [
    "#re.match()- The match function is used to match the RE pattern to string with optional flags\n",
    "list = ['Employable platform','edwisor platform','Xy','XYZ']\n",
    "\n",
    "for element in list:\n",
    "    z =re.match('X\\w+', element)\n",
    "    if z:\n",
    "        print(z)"
   ]
  },
  {
   "cell_type": "code",
   "execution_count": 53,
   "metadata": {},
   "outputs": [
    {
     "name": "stdout",
     "output_type": "stream",
     "text": [
      " Looking for \"data science\" in \"Employable will provide you platform to study data science\"  -> Match found\n",
      " Looking for \"java\" in \"Employable will provide you platform to study data science\"  -> Match not found\n"
     ]
    }
   ],
   "source": [
    "#re.search()- to search for a pattern in a tex\n",
    "patterns =['data science','java']\n",
    "text= 'Employable will provide you platform to study data science'\n",
    "for i in patterns:\n",
    "    print(' Looking for \"%s\" in \"%s\"  ->' %(i, text), end='')\n",
    "    if re.search(i,text):\n",
    "        print(' Match found')\n",
    "    else:\n",
    "        print(' Match not found')\n"
   ]
  },
  {
   "cell_type": "code",
   "execution_count": 54,
   "metadata": {},
   "outputs": [
    {
     "name": "stdout",
     "output_type": "stream",
     "text": [
      "abc@gmail.com\n",
      "red@yahoomail.com\n",
      "WAR@gmailcom\n"
     ]
    }
   ],
   "source": [
    "#re.finadall()- Re.findall() module is used when you want to iterate over the lines of the file\n",
    "lis = 'abc@gmail.com , XYZmail.com ,red@yahoomail.com ,WAR@gmailcom'\n",
    "emails = re.findall(r'[\\w\\.-]+@[\\w\\.-]+', lis)\n",
    "\n",
    "for email in emails:\n",
    "    print(email)"
   ]
  },
  {
   "cell_type": "markdown",
   "metadata": {},
   "source": [
    "# Stemming"
   ]
  },
  {
   "cell_type": "code",
   "execution_count": 55,
   "metadata": {},
   "outputs": [],
   "source": [
    "from nltk.stem import PorterStemmer\n",
    "from nltk.tokenize import sent_tokenize, word_tokenize\n",
    "\n",
    "ps = PorterStemmer()"
   ]
  },
  {
   "cell_type": "code",
   "execution_count": 56,
   "metadata": {},
   "outputs": [
    {
     "data": {
      "text/plain": [
       "'have'"
      ]
     },
     "execution_count": 56,
     "metadata": {},
     "output_type": "execute_result"
    }
   ],
   "source": [
    "ps.stem('having')"
   ]
  },
  {
   "cell_type": "code",
   "execution_count": 57,
   "metadata": {},
   "outputs": [],
   "source": [
    "example_words = [\"python\",\"pythoner\",\"pythoning\",\"pythoned\",\"pythonly\"]"
   ]
  },
  {
   "cell_type": "code",
   "execution_count": 58,
   "metadata": {},
   "outputs": [
    {
     "name": "stdout",
     "output_type": "stream",
     "text": [
      "python\n",
      "python\n",
      "python\n",
      "python\n",
      "pythonli\n"
     ]
    }
   ],
   "source": [
    "for w in example_words:\n",
    "    print(ps.stem(w))"
   ]
  },
  {
   "cell_type": "code",
   "execution_count": 59,
   "metadata": {},
   "outputs": [],
   "source": [
    "#Porter stemming\n",
    "from nltk.stem import PorterStemmer\n",
    "ps = nltk.PorterStemmer()"
   ]
  },
  {
   "cell_type": "code",
   "execution_count": 60,
   "metadata": {},
   "outputs": [
    {
     "name": "stdout",
     "output_type": "stream",
     "text": [
      "['thi', 'is', 'a', 'demo', 'text', 'for', 'nlp', 'use', 'nltk', '.', 'full', 'form', 'of', 'nltk', 'is', 'natur', 'languag', 'toolkit']\n"
     ]
    }
   ],
   "source": [
    "text = 'This is a Demoes Texting for NLP using NLTK. Full forms of NLTK is Natural Language Toolkit'\n",
    "\n",
    "word_tokens = nltk.word_tokenize(text)\n",
    "stemmed_word = [ps.stem(word) for word in word_tokens]\n",
    "print (stemmed_word)"
   ]
  },
  {
   "cell_type": "code",
   "execution_count": 61,
   "metadata": {},
   "outputs": [],
   "source": [
    "# Snowball stemming\n",
    "from nltk.stem import SnowballStemmer\n",
    "sbs = SnowballStemmer(\"english\") #need to specify language"
   ]
  },
  {
   "cell_type": "code",
   "execution_count": 62,
   "metadata": {},
   "outputs": [
    {
     "name": "stdout",
     "output_type": "stream",
     "text": [
      "['this', 'is', 'a', 'demo', 'text', 'for', 'nlp', 'use', 'nltk', '.', 'full', 'form', 'of', 'nltk', 'is', 'natur', 'languag', 'toolkit']\n"
     ]
    }
   ],
   "source": [
    "text = 'This is a Demoes Texting for NLP using NLTK. Full forms of NLTK is Natural Language Toolkit'\n",
    "\n",
    "word_tokens = nltk.word_tokenize(text)\n",
    "stemmed_word = [sbs.stem(word) for word in word_tokens]\n",
    "print (stemmed_word)"
   ]
  },
  {
   "cell_type": "code",
   "execution_count": 63,
   "metadata": {},
   "outputs": [],
   "source": [
    "# Lancaster Stemming\n",
    "from nltk.stem import LancasterStemmer\n",
    "lst = LancasterStemmer()"
   ]
  },
  {
   "cell_type": "code",
   "execution_count": 64,
   "metadata": {},
   "outputs": [
    {
     "name": "stdout",
     "output_type": "stream",
     "text": [
      "['thi', 'is', 'a', 'demo', 'text', 'for', 'nlp', 'us', 'nltk', '.', 'ful', 'form', 'of', 'nltk', 'is', 'nat', 'langu', 'toolkit']\n"
     ]
    }
   ],
   "source": [
    "text = 'This is a Demoes Texting for NLP using NLTK. Full forms of NLTK is Natural Language Toolkit'\n",
    "\n",
    "word_tokens = nltk.word_tokenize(text)\n",
    "stemmed_word = [lst.stem(word) for word in word_tokens]\n",
    "print (stemmed_word)"
   ]
  },
  {
   "cell_type": "code",
   "execution_count": 65,
   "metadata": {},
   "outputs": [
    {
     "data": {
      "text/plain": [
       "['Cistem',\n",
       " 'ISRIStemmer',\n",
       " 'LancasterStemmer',\n",
       " 'PorterStemmer',\n",
       " 'RSLPStemmer',\n",
       " 'RegexpStemmer',\n",
       " 'SnowballStemmer',\n",
       " 'StemmerI',\n",
       " 'WordNetLemmatizer',\n",
       " '__builtins__',\n",
       " '__cached__',\n",
       " '__doc__',\n",
       " '__file__',\n",
       " '__loader__',\n",
       " '__name__',\n",
       " '__package__',\n",
       " '__path__',\n",
       " '__spec__',\n",
       " 'api',\n",
       " 'cistem',\n",
       " 'isri',\n",
       " 'lancaster',\n",
       " 'porter',\n",
       " 'regexp',\n",
       " 'rslp',\n",
       " 'snowball',\n",
       " 'util',\n",
       " 'wordnet']"
      ]
     },
     "execution_count": 65,
     "metadata": {},
     "output_type": "execute_result"
    }
   ],
   "source": [
    "dir(nltk.stem)"
   ]
  },
  {
   "cell_type": "markdown",
   "metadata": {},
   "source": [
    "# Lemmatization"
   ]
  },
  {
   "cell_type": "code",
   "execution_count": 66,
   "metadata": {},
   "outputs": [],
   "source": [
    "#Wordnet Lemmatizer\n",
    "#Spacy Lemmatizer\n",
    "#TextBlob\n",
    "#CLiPS Pattern\n",
    "#Stanford CoreNLP\n",
    "#Gensim Lemmatizer\n",
    "#TreeTagger"
   ]
  },
  {
   "cell_type": "code",
   "execution_count": 67,
   "metadata": {},
   "outputs": [],
   "source": [
    "sentence = \"\"\"Following mice attacks, caring farmers were marching to Delhi for better living conditions. \n",
    "Delhi police on Tuesday fired water cannons and teargas shells at protesting farmers as they tried to \n",
    "break barricades with their cars, automobiles and tractors.\"\"\""
   ]
  },
  {
   "cell_type": "code",
   "execution_count": 68,
   "metadata": {},
   "outputs": [
    {
     "name": "stdout",
     "output_type": "stream",
     "text": [
      "['Following', 'mice', 'attacks', ',', 'caring', 'farmers', 'were', 'marching', 'to', 'Delhi', 'for', 'better', 'living', 'conditions', '.', 'Delhi', 'police', 'on', 'Tuesday', 'fired', 'water', 'cannons', 'and', 'teargas', 'shells', 'at', 'protesting', 'farmers', 'as', 'they', 'tried', 'to', 'break', 'barricades', 'with', 'their', 'cars', ',', 'automobiles', 'and', 'tractors', '.']\n"
     ]
    }
   ],
   "source": [
    "# Tokenize: Split the sentence into words\n",
    "\n",
    "word_list = nltk.word_tokenize(sentence)\n",
    "print(word_list)"
   ]
  },
  {
   "cell_type": "code",
   "execution_count": 69,
   "metadata": {},
   "outputs": [
    {
     "name": "stdout",
     "output_type": "stream",
     "text": [
      "Following mouse attack caring farmer were marching to Delhi for better living condition Delhi police on Tuesday fired water cannon and teargas shell at protesting farmer a they tried to break barricade with their car automobile and tractor\n"
     ]
    }
   ],
   "source": [
    "# NLTK\n",
    "from nltk.stem import WordNetLemmatizer\n",
    "lemmatizer = WordNetLemmatizer()\n",
    "lemmatized_output = \" \".join([lemmatizer.lemmatize(w) for w in word_list if w not in string.punctuation])\n",
    "print(lemmatized_output)"
   ]
  },
  {
   "cell_type": "code",
   "execution_count": 70,
   "metadata": {},
   "outputs": [
    {
     "name": "stdout",
     "output_type": "stream",
     "text": [
      "strip\n",
      "stripe\n"
     ]
    }
   ],
   "source": [
    "#with POS\n",
    "print(lemmatizer.lemmatize(\"stripes\", 'v')) \n",
    "\n",
    "print(lemmatizer.lemmatize(\"stripes\", 'n')) "
   ]
  },
  {
   "cell_type": "code",
   "execution_count": 71,
   "metadata": {},
   "outputs": [
    {
     "name": "stdout",
     "output_type": "stream",
     "text": [
      "[('Following', 'VBG'), ('mice', 'NN'), ('attacks', 'NNS'), (',', ','), ('caring', 'VBG'), ('farmers', 'NNS'), ('were', 'VBD'), ('marching', 'VBG'), ('to', 'TO'), ('Delhi', 'NNP'), ('for', 'IN'), ('better', 'JJR'), ('living', 'NN'), ('conditions', 'NNS'), ('.', '.'), ('Delhi', 'NNP'), ('police', 'NN'), ('on', 'IN'), ('Tuesday', 'NNP'), ('fired', 'VBD'), ('water', 'NN'), ('cannons', 'NNS'), ('and', 'CC'), ('teargas', 'NN'), ('shells', 'NNS'), ('at', 'IN'), ('protesting', 'VBG'), ('farmers', 'NNS'), ('as', 'IN'), ('they', 'PRP'), ('tried', 'VBD'), ('to', 'TO'), ('break', 'VB'), ('barricades', 'NNS'), ('with', 'IN'), ('their', 'PRP$'), ('cars', 'NNS'), (',', ','), ('automobiles', 'NNS'), ('and', 'CC'), ('tractors', 'NNS'), ('.', '.')]\n"
     ]
    }
   ],
   "source": [
    "#Wordnet Lemmatizer with appropriate POS tag\n",
    "print(nltk.pos_tag(nltk.word_tokenize(sentence)))"
   ]
  },
  {
   "cell_type": "code",
   "execution_count": 72,
   "metadata": {
    "scrolled": false
   },
   "outputs": [
    {
     "name": "stderr",
     "output_type": "stream",
     "text": [
      "[nltk_data] Downloading package wordnet to\n",
      "[nltk_data]     C:\\Users\\admin\\AppData\\Roaming\\nltk_data...\n",
      "[nltk_data]   Package wordnet is already up-to-date!\n"
     ]
    },
    {
     "data": {
      "text/plain": [
       "True"
      ]
     },
     "execution_count": 72,
     "metadata": {},
     "output_type": "execute_result"
    }
   ],
   "source": [
    "# # Download Wordnet through NLTK in python console:\n",
    "import nltk\n",
    "nltk.download('wordnet')"
   ]
  },
  {
   "cell_type": "code",
   "execution_count": 73,
   "metadata": {},
   "outputs": [
    {
     "name": "stdout",
     "output_type": "stream",
     "text": [
      "['This', 'is', 'a', 'Demoes', 'Texting', 'for', 'NLP', 'using', 'NLTK', 'Full', 'forms', 'of', 'NLTK', 'is', 'Natural', 'Language', 'Toolkit']\n"
     ]
    }
   ],
   "source": [
    "# Define the sentence to be lemmatized\n",
    "sentence = 'This is a Demoes Texting for NLP using NLTK Full forms of NLTK is Natural Language Toolkit'\n",
    "\n",
    "# Tokenize: Split the sentence into words\n",
    "word_list = nltk.word_tokenize(sentence)\n",
    "print(word_list)\n"
   ]
  },
  {
   "cell_type": "code",
   "execution_count": 74,
   "metadata": {},
   "outputs": [
    {
     "name": "stdout",
     "output_type": "stream",
     "text": [
      "This is a Demoes Texting for NLP using NLTK Full form of NLTK is Natural Language Toolkit\n"
     ]
    }
   ],
   "source": [
    "# 1. Init the Wordnet Lemmatizer\n",
    "from nltk.stem import WordNetLemmatizer \n",
    "\n",
    "lemmatizer = WordNetLemmatizer()\n",
    "# Lemmatize list of words and join\n",
    "lemmatized_output = ' '.join([lemmatizer.lemmatize(w) for w in word_list])\n",
    "print(lemmatized_output)"
   ]
  },
  {
   "cell_type": "markdown",
   "metadata": {},
   "source": [
    "## Count Vectorizer\n",
    "####  https://scikit-learn.org/stable/modules/generated/sklearn.feature_extraction.text.CountVectorizer.html"
   ]
  },
  {
   "cell_type": "code",
   "execution_count": 75,
   "metadata": {},
   "outputs": [],
   "source": [
    "from sklearn.feature_extraction.text import CountVectorizer\n",
    "cv=CountVectorizer()"
   ]
  },
  {
   "cell_type": "code",
   "execution_count": 76,
   "metadata": {},
   "outputs": [],
   "source": [
    "corpus =[\"The car is driven on the road\",\n",
    "         \"The truck is driven on the highway\"]"
   ]
  },
  {
   "cell_type": "code",
   "execution_count": 77,
   "metadata": {},
   "outputs": [
    {
     "data": {
      "text/plain": [
       "(2, 8)"
      ]
     },
     "execution_count": 77,
     "metadata": {},
     "output_type": "execute_result"
    }
   ],
   "source": [
    "count_vector=cv.fit_transform(corpus)\n",
    "count_vector.shape"
   ]
  },
  {
   "cell_type": "code",
   "execution_count": 78,
   "metadata": {},
   "outputs": [
    {
     "name": "stdout",
     "output_type": "stream",
     "text": [
      "CountVectorizer(analyzer='word', binary=False, decode_error='strict',\n",
      "                dtype=<class 'numpy.int64'>, encoding='utf-8', input='content',\n",
      "                lowercase=True, max_df=1.0, max_features=None, min_df=1,\n",
      "                ngram_range=(1, 1), preprocessor=None, stop_words=None,\n",
      "                strip_accents=None, token_pattern='(?u)\\\\b\\\\w\\\\w+\\\\b',\n",
      "                tokenizer=None, vocabulary=None)\n",
      "{'the': 6, 'car': 0, 'is': 3, 'driven': 1, 'on': 4, 'road': 5, 'truck': 7, 'highway': 2}\n",
      "['car', 'driven', 'highway', 'is', 'on', 'road', 'the', 'truck']\n"
     ]
    }
   ],
   "source": [
    "x= cv.fit_transform(corpus)\n",
    "# show resulting vocabulary; the numbers are not counts, they are the position in the sparse vector.\n",
    "print(cv)\n",
    "print(cv.vocabulary_)\n",
    "print(cv.get_feature_names())\n"
   ]
  },
  {
   "cell_type": "code",
   "execution_count": 79,
   "metadata": {},
   "outputs": [
    {
     "name": "stdout",
     "output_type": "stream",
     "text": [
      "(2, 8)\n",
      "[[1 1 0 1 1 1 2 0]\n",
      " [0 1 1 1 1 0 2 1]]\n"
     ]
    }
   ],
   "source": [
    "print(x.shape)\n",
    "print(x.toarray())"
   ]
  },
  {
   "cell_type": "code",
   "execution_count": 80,
   "metadata": {},
   "outputs": [
    {
     "name": "stdout",
     "output_type": "stream",
     "text": [
      "(2, 8)\n",
      "(2, 8)\n",
      "[[1 1 0 1 1 1 2 0]\n",
      " [0 1 1 1 1 0 2 1]]\n"
     ]
    }
   ],
   "source": [
    "# adding stop words\n",
    "cv = CountVectorizer(corpus,stop_words=[\"I\",\"to\",\"and\"])\n",
    "count_vector=cv.fit_transform(corpus)\n",
    "print(count_vector.shape)\n",
    "print(count_vector.shape)\n",
    "print(count_vector.toarray())"
   ]
  },
  {
   "cell_type": "markdown",
   "metadata": {},
   "source": [
    "## TF-IDF\n",
    "#### https://scikit-learn.org/stable/modules/generated/sklearn.feature_extraction.text.TfidfTransformer.html"
   ]
  },
  {
   "cell_type": "code",
   "execution_count": 81,
   "metadata": {},
   "outputs": [],
   "source": [
    "from sklearn.feature_extraction.text import TfidfVectorizer\n",
    "tfidf_vect = TfidfVectorizer()"
   ]
  },
  {
   "cell_type": "code",
   "execution_count": 82,
   "metadata": {},
   "outputs": [
    {
     "name": "stdout",
     "output_type": "stream",
     "text": [
      "{'the': 6, 'car': 0, 'is': 3, 'driven': 1, 'on': 4, 'road': 5, 'truck': 7, 'highway': 2}\n",
      "['car', 'driven', 'highway', 'is', 'on', 'road', 'the', 'truck']\n"
     ]
    }
   ],
   "source": [
    "x= tfidf_vect.fit(corpus)\n",
    "print(x.vocabulary_)\n",
    "print(tfidf_vect.get_feature_names())\n",
    "\n",
    "x=tfidf_vect.transform(corpus)"
   ]
  },
  {
   "cell_type": "code",
   "execution_count": 83,
   "metadata": {},
   "outputs": [
    {
     "name": "stdout",
     "output_type": "stream",
     "text": [
      "(2, 8)\n",
      "  (0, 6)\t0.6043795515372431\n",
      "  (0, 5)\t0.42471718586982765\n",
      "  (0, 4)\t0.30218977576862155\n",
      "  (0, 3)\t0.30218977576862155\n",
      "  (0, 1)\t0.30218977576862155\n",
      "  (0, 0)\t0.42471718586982765\n",
      "  (1, 7)\t0.42471718586982765\n",
      "  (1, 6)\t0.6043795515372431\n",
      "  (1, 4)\t0.30218977576862155\n",
      "  (1, 3)\t0.30218977576862155\n",
      "  (1, 2)\t0.42471718586982765\n",
      "  (1, 1)\t0.30218977576862155\n",
      "[[0.42471719 0.30218978 0.         0.30218978 0.30218978 0.42471719\n",
      "  0.60437955 0.        ]\n",
      " [0.         0.30218978 0.42471719 0.30218978 0.30218978 0.\n",
      "  0.60437955 0.42471719]]\n"
     ]
    }
   ],
   "source": [
    "print(x.shape)\n",
    "print(x)\n",
    "print(x.toarray())"
   ]
  },
  {
   "cell_type": "code",
   "execution_count": 84,
   "metadata": {},
   "outputs": [
    {
     "data": {
      "text/html": [
       "<div>\n",
       "<style scoped>\n",
       "    .dataframe tbody tr th:only-of-type {\n",
       "        vertical-align: middle;\n",
       "    }\n",
       "\n",
       "    .dataframe tbody tr th {\n",
       "        vertical-align: top;\n",
       "    }\n",
       "\n",
       "    .dataframe thead th {\n",
       "        text-align: right;\n",
       "    }\n",
       "</style>\n",
       "<table border=\"1\" class=\"dataframe\">\n",
       "  <thead>\n",
       "    <tr style=\"text-align: right;\">\n",
       "      <th></th>\n",
       "      <th>car</th>\n",
       "      <th>driven</th>\n",
       "      <th>highway</th>\n",
       "      <th>is</th>\n",
       "      <th>on</th>\n",
       "      <th>road</th>\n",
       "      <th>the</th>\n",
       "      <th>truck</th>\n",
       "    </tr>\n",
       "  </thead>\n",
       "  <tbody>\n",
       "    <tr>\n",
       "      <th>0</th>\n",
       "      <td>0.424717</td>\n",
       "      <td>0.30219</td>\n",
       "      <td>0.000000</td>\n",
       "      <td>0.30219</td>\n",
       "      <td>0.30219</td>\n",
       "      <td>0.424717</td>\n",
       "      <td>0.60438</td>\n",
       "      <td>0.000000</td>\n",
       "    </tr>\n",
       "    <tr>\n",
       "      <th>1</th>\n",
       "      <td>0.000000</td>\n",
       "      <td>0.30219</td>\n",
       "      <td>0.424717</td>\n",
       "      <td>0.30219</td>\n",
       "      <td>0.30219</td>\n",
       "      <td>0.000000</td>\n",
       "      <td>0.60438</td>\n",
       "      <td>0.424717</td>\n",
       "    </tr>\n",
       "  </tbody>\n",
       "</table>\n",
       "</div>"
      ],
      "text/plain": [
       "        car   driven   highway       is       on      road      the     truck\n",
       "0  0.424717  0.30219  0.000000  0.30219  0.30219  0.424717  0.60438  0.000000\n",
       "1  0.000000  0.30219  0.424717  0.30219  0.30219  0.000000  0.60438  0.424717"
      ]
     },
     "execution_count": 84,
     "metadata": {},
     "output_type": "execute_result"
    }
   ],
   "source": [
    "df = pd.DataFrame(x.toarray(),columns=tfidf_vect.get_feature_names())\n",
    "df"
   ]
  },
  {
   "cell_type": "markdown",
   "metadata": {},
   "source": [
    "# Data cleaning"
   ]
  },
  {
   "cell_type": "code",
   "execution_count": 4,
   "metadata": {},
   "outputs": [
    {
     "data": {
      "text/html": [
       "<div>\n",
       "<style scoped>\n",
       "    .dataframe tbody tr th:only-of-type {\n",
       "        vertical-align: middle;\n",
       "    }\n",
       "\n",
       "    .dataframe tbody tr th {\n",
       "        vertical-align: top;\n",
       "    }\n",
       "\n",
       "    .dataframe thead th {\n",
       "        text-align: right;\n",
       "    }\n",
       "</style>\n",
       "<table border=\"1\" class=\"dataframe\">\n",
       "  <thead>\n",
       "    <tr style=\"text-align: right;\">\n",
       "      <th></th>\n",
       "      <th>body_text</th>\n",
       "      <th>label</th>\n",
       "    </tr>\n",
       "  </thead>\n",
       "  <tbody>\n",
       "    <tr>\n",
       "      <th>0</th>\n",
       "      <td>If the press would cover me accurately &amp; honorably, I would have far less reason to \"tweet.\" Sad...</td>\n",
       "      <td>Yes</td>\n",
       "    </tr>\n",
       "    <tr>\n",
       "      <th>1</th>\n",
       "      <td>I am thrilled to nominate Dr. @RealBenCarson as our next Secretary of the US Dept. of Housing an...</td>\n",
       "      <td>Yes</td>\n",
       "    </tr>\n",
       "    <tr>\n",
       "      <th>2</th>\n",
       "      <td>their country (the U.S. doesn't tax them) or to build a massive military complex in the middle o...</td>\n",
       "      <td>Yes</td>\n",
       "    </tr>\n",
       "    <tr>\n",
       "      <th>3</th>\n",
       "      <td>Did China ask us if it was OK to devalue their currency (making it hard for our companies to com...</td>\n",
       "      <td>Yes</td>\n",
       "    </tr>\n",
       "    <tr>\n",
       "      <th>4</th>\n",
       "      <td>.@FoxNews will be re-running \"Objectified: Donald Trump,\" the ratings hit produced by the great ...</td>\n",
       "      <td>Yes</td>\n",
       "    </tr>\n",
       "  </tbody>\n",
       "</table>\n",
       "</div>"
      ],
      "text/plain": [
       "                                                                                             body_text  \\\n",
       "0  If the press would cover me accurately & honorably, I would have far less reason to \"tweet.\" Sad...   \n",
       "1  I am thrilled to nominate Dr. @RealBenCarson as our next Secretary of the US Dept. of Housing an...   \n",
       "2  their country (the U.S. doesn't tax them) or to build a massive military complex in the middle o...   \n",
       "3  Did China ask us if it was OK to devalue their currency (making it hard for our companies to com...   \n",
       "4  .@FoxNews will be re-running \"Objectified: Donald Trump,\" the ratings hit produced by the great ...   \n",
       "\n",
       "  label  \n",
       "0   Yes  \n",
       "1   Yes  \n",
       "2   Yes  \n",
       "3   Yes  \n",
       "4   Yes  "
      ]
     },
     "execution_count": 4,
     "metadata": {},
     "output_type": "execute_result"
    }
   ],
   "source": [
    "data = pd.read_excel('tweets.xlsx',0)\n",
    "data.columns =['body_text','label']\n",
    "data.head()"
   ]
  },
  {
   "cell_type": "code",
   "execution_count": 6,
   "metadata": {},
   "outputs": [
    {
     "data": {
      "text/html": [
       "<div>\n",
       "<style scoped>\n",
       "    .dataframe tbody tr th:only-of-type {\n",
       "        vertical-align: middle;\n",
       "    }\n",
       "\n",
       "    .dataframe tbody tr th {\n",
       "        vertical-align: top;\n",
       "    }\n",
       "\n",
       "    .dataframe thead th {\n",
       "        text-align: right;\n",
       "    }\n",
       "</style>\n",
       "<table border=\"1\" class=\"dataframe\">\n",
       "  <thead>\n",
       "    <tr style=\"text-align: right;\">\n",
       "      <th></th>\n",
       "      <th>body_text</th>\n",
       "      <th>label</th>\n",
       "      <th>body_text_clean</th>\n",
       "    </tr>\n",
       "  </thead>\n",
       "  <tbody>\n",
       "    <tr>\n",
       "      <th>0</th>\n",
       "      <td>If the press would cover me accurately &amp; honorably, I would have far less reason to \"tweet.\" Sad...</td>\n",
       "      <td>Yes</td>\n",
       "      <td>If the press would cover me accurately  honorably I would have far less reason to tweet Sadly I ...</td>\n",
       "    </tr>\n",
       "    <tr>\n",
       "      <th>1</th>\n",
       "      <td>I am thrilled to nominate Dr. @RealBenCarson as our next Secretary of the US Dept. of Housing an...</td>\n",
       "      <td>Yes</td>\n",
       "      <td>I am thrilled to nominate Dr RealBenCarson as our next Secretary of the US Dept of Housing and U...</td>\n",
       "    </tr>\n",
       "    <tr>\n",
       "      <th>2</th>\n",
       "      <td>their country (the U.S. doesn't tax them) or to build a massive military complex in the middle o...</td>\n",
       "      <td>Yes</td>\n",
       "      <td>their country the US doesnt tax them or to build a massive military complex in the middle of the...</td>\n",
       "    </tr>\n",
       "    <tr>\n",
       "      <th>3</th>\n",
       "      <td>Did China ask us if it was OK to devalue their currency (making it hard for our companies to com...</td>\n",
       "      <td>Yes</td>\n",
       "      <td>Did China ask us if it was OK to devalue their currency making it hard for our companies to comp...</td>\n",
       "    </tr>\n",
       "    <tr>\n",
       "      <th>4</th>\n",
       "      <td>.@FoxNews will be re-running \"Objectified: Donald Trump,\" the ratings hit produced by the great ...</td>\n",
       "      <td>Yes</td>\n",
       "      <td>FoxNews will be rerunning Objectified Donald Trump the ratings hit produced by the great Harvey ...</td>\n",
       "    </tr>\n",
       "  </tbody>\n",
       "</table>\n",
       "</div>"
      ],
      "text/plain": [
       "                                                                                             body_text  \\\n",
       "0  If the press would cover me accurately & honorably, I would have far less reason to \"tweet.\" Sad...   \n",
       "1  I am thrilled to nominate Dr. @RealBenCarson as our next Secretary of the US Dept. of Housing an...   \n",
       "2  their country (the U.S. doesn't tax them) or to build a massive military complex in the middle o...   \n",
       "3  Did China ask us if it was OK to devalue their currency (making it hard for our companies to com...   \n",
       "4  .@FoxNews will be re-running \"Objectified: Donald Trump,\" the ratings hit produced by the great ...   \n",
       "\n",
       "  label  \\\n",
       "0   Yes   \n",
       "1   Yes   \n",
       "2   Yes   \n",
       "3   Yes   \n",
       "4   Yes   \n",
       "\n",
       "                                                                                       body_text_clean  \n",
       "0  If the press would cover me accurately  honorably I would have far less reason to tweet Sadly I ...  \n",
       "1  I am thrilled to nominate Dr RealBenCarson as our next Secretary of the US Dept of Housing and U...  \n",
       "2  their country the US doesnt tax them or to build a massive military complex in the middle of the...  \n",
       "3  Did China ask us if it was OK to devalue their currency making it hard for our companies to comp...  \n",
       "4  FoxNews will be rerunning Objectified Donald Trump the ratings hit produced by the great Harvey ...  "
      ]
     },
     "execution_count": 6,
     "metadata": {},
     "output_type": "execute_result"
    }
   ],
   "source": [
    "def remove_punct(text):\n",
    "    text_nopunct = \"\".join([char for char in text if char not in string.punctuation])\n",
    "    return text_nopunct\n",
    "\n",
    "data['body_text_clean'] = data['body_text'].apply(lambda x: remove_punct(x))\n",
    "data.head()"
   ]
  },
  {
   "cell_type": "code",
   "execution_count": 8,
   "metadata": {},
   "outputs": [
    {
     "data": {
      "text/html": [
       "<div>\n",
       "<style scoped>\n",
       "    .dataframe tbody tr th:only-of-type {\n",
       "        vertical-align: middle;\n",
       "    }\n",
       "\n",
       "    .dataframe tbody tr th {\n",
       "        vertical-align: top;\n",
       "    }\n",
       "\n",
       "    .dataframe thead th {\n",
       "        text-align: right;\n",
       "    }\n",
       "</style>\n",
       "<table border=\"1\" class=\"dataframe\">\n",
       "  <thead>\n",
       "    <tr style=\"text-align: right;\">\n",
       "      <th></th>\n",
       "      <th>body_text</th>\n",
       "      <th>label</th>\n",
       "      <th>body_text_clean</th>\n",
       "      <th>body_text_tokenized</th>\n",
       "    </tr>\n",
       "  </thead>\n",
       "  <tbody>\n",
       "    <tr>\n",
       "      <th>0</th>\n",
       "      <td>If the press would cover me accurately &amp; honorably, I would have far less reason to \"tweet.\" Sad...</td>\n",
       "      <td>Yes</td>\n",
       "      <td>If the press would cover me accurately  honorably I would have far less reason to tweet Sadly I ...</td>\n",
       "      <td>[if, the, press, would, cover, me, accurately, honorably, i, would, have, far, less, reason, to,...</td>\n",
       "    </tr>\n",
       "    <tr>\n",
       "      <th>1</th>\n",
       "      <td>I am thrilled to nominate Dr. @RealBenCarson as our next Secretary of the US Dept. of Housing an...</td>\n",
       "      <td>Yes</td>\n",
       "      <td>I am thrilled to nominate Dr RealBenCarson as our next Secretary of the US Dept of Housing and U...</td>\n",
       "      <td>[i, am, thrilled, to, nominate, dr, realbencarson, as, our, next, secretary, of, the, us, dept, ...</td>\n",
       "    </tr>\n",
       "    <tr>\n",
       "      <th>2</th>\n",
       "      <td>their country (the U.S. doesn't tax them) or to build a massive military complex in the middle o...</td>\n",
       "      <td>Yes</td>\n",
       "      <td>their country the US doesnt tax them or to build a massive military complex in the middle of the...</td>\n",
       "      <td>[their, country, the, us, doesnt, tax, them, or, to, build, a, massive, military, complex, in, t...</td>\n",
       "    </tr>\n",
       "    <tr>\n",
       "      <th>3</th>\n",
       "      <td>Did China ask us if it was OK to devalue their currency (making it hard for our companies to com...</td>\n",
       "      <td>Yes</td>\n",
       "      <td>Did China ask us if it was OK to devalue their currency making it hard for our companies to comp...</td>\n",
       "      <td>[did, china, ask, us, if, it, was, ok, to, devalue, their, currency, making, it, hard, for, our,...</td>\n",
       "    </tr>\n",
       "    <tr>\n",
       "      <th>4</th>\n",
       "      <td>.@FoxNews will be re-running \"Objectified: Donald Trump,\" the ratings hit produced by the great ...</td>\n",
       "      <td>Yes</td>\n",
       "      <td>FoxNews will be rerunning Objectified Donald Trump the ratings hit produced by the great Harvey ...</td>\n",
       "      <td>[foxnews, will, be, rerunning, objectified, donald, trump, the, ratings, hit, produced, by, the,...</td>\n",
       "    </tr>\n",
       "  </tbody>\n",
       "</table>\n",
       "</div>"
      ],
      "text/plain": [
       "                                                                                             body_text  \\\n",
       "0  If the press would cover me accurately & honorably, I would have far less reason to \"tweet.\" Sad...   \n",
       "1  I am thrilled to nominate Dr. @RealBenCarson as our next Secretary of the US Dept. of Housing an...   \n",
       "2  their country (the U.S. doesn't tax them) or to build a massive military complex in the middle o...   \n",
       "3  Did China ask us if it was OK to devalue their currency (making it hard for our companies to com...   \n",
       "4  .@FoxNews will be re-running \"Objectified: Donald Trump,\" the ratings hit produced by the great ...   \n",
       "\n",
       "  label  \\\n",
       "0   Yes   \n",
       "1   Yes   \n",
       "2   Yes   \n",
       "3   Yes   \n",
       "4   Yes   \n",
       "\n",
       "                                                                                       body_text_clean  \\\n",
       "0  If the press would cover me accurately  honorably I would have far less reason to tweet Sadly I ...   \n",
       "1  I am thrilled to nominate Dr RealBenCarson as our next Secretary of the US Dept of Housing and U...   \n",
       "2  their country the US doesnt tax them or to build a massive military complex in the middle of the...   \n",
       "3  Did China ask us if it was OK to devalue their currency making it hard for our companies to comp...   \n",
       "4  FoxNews will be rerunning Objectified Donald Trump the ratings hit produced by the great Harvey ...   \n",
       "\n",
       "                                                                                   body_text_tokenized  \n",
       "0  [if, the, press, would, cover, me, accurately, honorably, i, would, have, far, less, reason, to,...  \n",
       "1  [i, am, thrilled, to, nominate, dr, realbencarson, as, our, next, secretary, of, the, us, dept, ...  \n",
       "2  [their, country, the, us, doesnt, tax, them, or, to, build, a, massive, military, complex, in, t...  \n",
       "3  [did, china, ask, us, if, it, was, ok, to, devalue, their, currency, making, it, hard, for, our,...  \n",
       "4  [foxnews, will, be, rerunning, objectified, donald, trump, the, ratings, hit, produced, by, the,...  "
      ]
     },
     "execution_count": 8,
     "metadata": {},
     "output_type": "execute_result"
    }
   ],
   "source": [
    "import re\n",
    "\n",
    "def tokenize(text):\n",
    "    tokens = re.split('\\W+', text)\n",
    "    return tokens\n",
    "\n",
    "data['body_text_tokenized'] = data['body_text_clean'].apply(lambda x: tokenize(x.lower()))\n",
    "data.head()"
   ]
  },
  {
   "cell_type": "code",
   "execution_count": 10,
   "metadata": {},
   "outputs": [
    {
     "data": {
      "text/html": [
       "<div>\n",
       "<style scoped>\n",
       "    .dataframe tbody tr th:only-of-type {\n",
       "        vertical-align: middle;\n",
       "    }\n",
       "\n",
       "    .dataframe tbody tr th {\n",
       "        vertical-align: top;\n",
       "    }\n",
       "\n",
       "    .dataframe thead th {\n",
       "        text-align: right;\n",
       "    }\n",
       "</style>\n",
       "<table border=\"1\" class=\"dataframe\">\n",
       "  <thead>\n",
       "    <tr style=\"text-align: right;\">\n",
       "      <th></th>\n",
       "      <th>body_text</th>\n",
       "      <th>label</th>\n",
       "      <th>body_text_clean</th>\n",
       "      <th>body_text_tokenized</th>\n",
       "      <th>body_text_nostop</th>\n",
       "    </tr>\n",
       "  </thead>\n",
       "  <tbody>\n",
       "    <tr>\n",
       "      <th>0</th>\n",
       "      <td>If the press would cover me accurately &amp; honorably, I would have far less reason to \"tweet.\" Sad...</td>\n",
       "      <td>Yes</td>\n",
       "      <td>If the press would cover me accurately  honorably I would have far less reason to tweet Sadly I ...</td>\n",
       "      <td>[if, the, press, would, cover, me, accurately, honorably, i, would, have, far, less, reason, to,...</td>\n",
       "      <td>[press, would, cover, accurately, honorably, would, far, less, reason, tweet, sadly, dont, know,...</td>\n",
       "    </tr>\n",
       "    <tr>\n",
       "      <th>1</th>\n",
       "      <td>I am thrilled to nominate Dr. @RealBenCarson as our next Secretary of the US Dept. of Housing an...</td>\n",
       "      <td>Yes</td>\n",
       "      <td>I am thrilled to nominate Dr RealBenCarson as our next Secretary of the US Dept of Housing and U...</td>\n",
       "      <td>[i, am, thrilled, to, nominate, dr, realbencarson, as, our, next, secretary, of, the, us, dept, ...</td>\n",
       "      <td>[thrilled, nominate, dr, realbencarson, next, secretary, us, dept, housing, urban, development, ...</td>\n",
       "    </tr>\n",
       "    <tr>\n",
       "      <th>2</th>\n",
       "      <td>their country (the U.S. doesn't tax them) or to build a massive military complex in the middle o...</td>\n",
       "      <td>Yes</td>\n",
       "      <td>their country the US doesnt tax them or to build a massive military complex in the middle of the...</td>\n",
       "      <td>[their, country, the, us, doesnt, tax, them, or, to, build, a, massive, military, complex, in, t...</td>\n",
       "      <td>[country, us, doesnt, tax, build, massive, military, complex, middle, south, china, sea, dont, t...</td>\n",
       "    </tr>\n",
       "    <tr>\n",
       "      <th>3</th>\n",
       "      <td>Did China ask us if it was OK to devalue their currency (making it hard for our companies to com...</td>\n",
       "      <td>Yes</td>\n",
       "      <td>Did China ask us if it was OK to devalue their currency making it hard for our companies to comp...</td>\n",
       "      <td>[did, china, ask, us, if, it, was, ok, to, devalue, their, currency, making, it, hard, for, our,...</td>\n",
       "      <td>[china, ask, us, ok, devalue, currency, making, hard, companies, compete, heavily, tax, products...</td>\n",
       "    </tr>\n",
       "    <tr>\n",
       "      <th>4</th>\n",
       "      <td>.@FoxNews will be re-running \"Objectified: Donald Trump,\" the ratings hit produced by the great ...</td>\n",
       "      <td>Yes</td>\n",
       "      <td>FoxNews will be rerunning Objectified Donald Trump the ratings hit produced by the great Harvey ...</td>\n",
       "      <td>[foxnews, will, be, rerunning, objectified, donald, trump, the, ratings, hit, produced, by, the,...</td>\n",
       "      <td>[foxnews, rerunning, objectified, donald, trump, ratings, hit, produced, great, harvey, levin, t...</td>\n",
       "    </tr>\n",
       "  </tbody>\n",
       "</table>\n",
       "</div>"
      ],
      "text/plain": [
       "                                                                                             body_text  \\\n",
       "0  If the press would cover me accurately & honorably, I would have far less reason to \"tweet.\" Sad...   \n",
       "1  I am thrilled to nominate Dr. @RealBenCarson as our next Secretary of the US Dept. of Housing an...   \n",
       "2  their country (the U.S. doesn't tax them) or to build a massive military complex in the middle o...   \n",
       "3  Did China ask us if it was OK to devalue their currency (making it hard for our companies to com...   \n",
       "4  .@FoxNews will be re-running \"Objectified: Donald Trump,\" the ratings hit produced by the great ...   \n",
       "\n",
       "  label  \\\n",
       "0   Yes   \n",
       "1   Yes   \n",
       "2   Yes   \n",
       "3   Yes   \n",
       "4   Yes   \n",
       "\n",
       "                                                                                       body_text_clean  \\\n",
       "0  If the press would cover me accurately  honorably I would have far less reason to tweet Sadly I ...   \n",
       "1  I am thrilled to nominate Dr RealBenCarson as our next Secretary of the US Dept of Housing and U...   \n",
       "2  their country the US doesnt tax them or to build a massive military complex in the middle of the...   \n",
       "3  Did China ask us if it was OK to devalue their currency making it hard for our companies to comp...   \n",
       "4  FoxNews will be rerunning Objectified Donald Trump the ratings hit produced by the great Harvey ...   \n",
       "\n",
       "                                                                                   body_text_tokenized  \\\n",
       "0  [if, the, press, would, cover, me, accurately, honorably, i, would, have, far, less, reason, to,...   \n",
       "1  [i, am, thrilled, to, nominate, dr, realbencarson, as, our, next, secretary, of, the, us, dept, ...   \n",
       "2  [their, country, the, us, doesnt, tax, them, or, to, build, a, massive, military, complex, in, t...   \n",
       "3  [did, china, ask, us, if, it, was, ok, to, devalue, their, currency, making, it, hard, for, our,...   \n",
       "4  [foxnews, will, be, rerunning, objectified, donald, trump, the, ratings, hit, produced, by, the,...   \n",
       "\n",
       "                                                                                      body_text_nostop  \n",
       "0  [press, would, cover, accurately, honorably, would, far, less, reason, tweet, sadly, dont, know,...  \n",
       "1  [thrilled, nominate, dr, realbencarson, next, secretary, us, dept, housing, urban, development, ...  \n",
       "2  [country, us, doesnt, tax, build, massive, military, complex, middle, south, china, sea, dont, t...  \n",
       "3  [china, ask, us, ok, devalue, currency, making, hard, companies, compete, heavily, tax, products...  \n",
       "4  [foxnews, rerunning, objectified, donald, trump, ratings, hit, produced, great, harvey, levin, t...  "
      ]
     },
     "execution_count": 10,
     "metadata": {},
     "output_type": "execute_result"
    }
   ],
   "source": [
    "import nltk\n",
    "\n",
    "stopword = nltk.corpus.stopwords.words('english')\n",
    "\n",
    "def remove_stopwords(tokenized_list):\n",
    "    text = [word for word in tokenized_list if word not in stopword]\n",
    "    return text\n",
    "\n",
    "data['body_text_nostop'] = data['body_text_tokenized'].apply(lambda x: remove_stopwords(x))\n",
    "data.head()"
   ]
  },
  {
   "cell_type": "code",
   "execution_count": 11,
   "metadata": {},
   "outputs": [],
   "source": [
    "data = pd.read_excel('tweets.xlsx',0)\n",
    "data.columns =['body_text','label']"
   ]
  },
  {
   "cell_type": "code",
   "execution_count": 12,
   "metadata": {},
   "outputs": [],
   "source": [
    "import nltk\n",
    "\n",
    "wn = nltk.WordNetLemmatizer()\n",
    "ps = nltk.PorterStemmer()\n",
    "stopwords = nltk.corpus.stopwords.words('english')"
   ]
  },
  {
   "cell_type": "code",
   "execution_count": 13,
   "metadata": {},
   "outputs": [
    {
     "data": {
      "text/html": [
       "<div>\n",
       "<style scoped>\n",
       "    .dataframe tbody tr th:only-of-type {\n",
       "        vertical-align: middle;\n",
       "    }\n",
       "\n",
       "    .dataframe tbody tr th {\n",
       "        vertical-align: top;\n",
       "    }\n",
       "\n",
       "    .dataframe thead th {\n",
       "        text-align: right;\n",
       "    }\n",
       "</style>\n",
       "<table border=\"1\" class=\"dataframe\">\n",
       "  <thead>\n",
       "    <tr style=\"text-align: right;\">\n",
       "      <th></th>\n",
       "      <th>body_text</th>\n",
       "      <th>label</th>\n",
       "      <th>body_text_nostop</th>\n",
       "    </tr>\n",
       "  </thead>\n",
       "  <tbody>\n",
       "    <tr>\n",
       "      <th>0</th>\n",
       "      <td>If the press would cover me accurately &amp; honorably, I would have far less reason to \"tweet.\" Sad...</td>\n",
       "      <td>Yes</td>\n",
       "      <td>[press, would, cover, accurately, honorably, would, far, less, reason, tweet, sadly, dont, know,...</td>\n",
       "    </tr>\n",
       "    <tr>\n",
       "      <th>1</th>\n",
       "      <td>I am thrilled to nominate Dr. @RealBenCarson as our next Secretary of the US Dept. of Housing an...</td>\n",
       "      <td>Yes</td>\n",
       "      <td>[thrilled, nominate, dr, realbencarson, next, secretary, us, dept, housing, urban, development, ...</td>\n",
       "    </tr>\n",
       "    <tr>\n",
       "      <th>2</th>\n",
       "      <td>their country (the U.S. doesn't tax them) or to build a massive military complex in the middle o...</td>\n",
       "      <td>Yes</td>\n",
       "      <td>[country, us, doesnt, tax, build, massive, military, complex, middle, south, china, sea, dont, t...</td>\n",
       "    </tr>\n",
       "    <tr>\n",
       "      <th>3</th>\n",
       "      <td>Did China ask us if it was OK to devalue their currency (making it hard for our companies to com...</td>\n",
       "      <td>Yes</td>\n",
       "      <td>[china, ask, us, ok, devalue, currency, making, hard, companies, compete, heavily, tax, products...</td>\n",
       "    </tr>\n",
       "    <tr>\n",
       "      <th>4</th>\n",
       "      <td>.@FoxNews will be re-running \"Objectified: Donald Trump,\" the ratings hit produced by the great ...</td>\n",
       "      <td>Yes</td>\n",
       "      <td>[foxnews, rerunning, objectified, donald, trump, ratings, hit, produced, great, harvey, levin, t...</td>\n",
       "    </tr>\n",
       "  </tbody>\n",
       "</table>\n",
       "</div>"
      ],
      "text/plain": [
       "                                                                                             body_text  \\\n",
       "0  If the press would cover me accurately & honorably, I would have far less reason to \"tweet.\" Sad...   \n",
       "1  I am thrilled to nominate Dr. @RealBenCarson as our next Secretary of the US Dept. of Housing an...   \n",
       "2  their country (the U.S. doesn't tax them) or to build a massive military complex in the middle o...   \n",
       "3  Did China ask us if it was OK to devalue their currency (making it hard for our companies to com...   \n",
       "4  .@FoxNews will be re-running \"Objectified: Donald Trump,\" the ratings hit produced by the great ...   \n",
       "\n",
       "  label  \\\n",
       "0   Yes   \n",
       "1   Yes   \n",
       "2   Yes   \n",
       "3   Yes   \n",
       "4   Yes   \n",
       "\n",
       "                                                                                      body_text_nostop  \n",
       "0  [press, would, cover, accurately, honorably, would, far, less, reason, tweet, sadly, dont, know,...  \n",
       "1  [thrilled, nominate, dr, realbencarson, next, secretary, us, dept, housing, urban, development, ...  \n",
       "2  [country, us, doesnt, tax, build, massive, military, complex, middle, south, china, sea, dont, t...  \n",
       "3  [china, ask, us, ok, devalue, currency, making, hard, companies, compete, heavily, tax, products...  \n",
       "4  [foxnews, rerunning, objectified, donald, trump, ratings, hit, produced, great, harvey, levin, t...  "
      ]
     },
     "execution_count": 13,
     "metadata": {},
     "output_type": "execute_result"
    }
   ],
   "source": [
    "def clean_text(text):\n",
    "    text = \"\".join([word for word in text if word not in string.punctuation])\n",
    "    tokens = re.split('\\W+', text)\n",
    "    text = [word for word in tokens if word not in stopwords]\n",
    "    return text\n",
    "\n",
    "data['body_text_nostop'] = data['body_text'].apply(lambda x: clean_text(x.lower()))\n",
    "\n",
    "data.head()"
   ]
  },
  {
   "cell_type": "code",
   "execution_count": 14,
   "metadata": {},
   "outputs": [
    {
     "data": {
      "text/html": [
       "<div>\n",
       "<style scoped>\n",
       "    .dataframe tbody tr th:only-of-type {\n",
       "        vertical-align: middle;\n",
       "    }\n",
       "\n",
       "    .dataframe tbody tr th {\n",
       "        vertical-align: top;\n",
       "    }\n",
       "\n",
       "    .dataframe thead th {\n",
       "        text-align: right;\n",
       "    }\n",
       "</style>\n",
       "<table border=\"1\" class=\"dataframe\">\n",
       "  <thead>\n",
       "    <tr style=\"text-align: right;\">\n",
       "      <th></th>\n",
       "      <th>body_text</th>\n",
       "      <th>label</th>\n",
       "      <th>body_text_nostop</th>\n",
       "      <th>body_text_lemmatized</th>\n",
       "    </tr>\n",
       "  </thead>\n",
       "  <tbody>\n",
       "    <tr>\n",
       "      <th>0</th>\n",
       "      <td>If the press would cover me accurately &amp; honorably, I would have far less reason to \"tweet.\" Sad...</td>\n",
       "      <td>Yes</td>\n",
       "      <td>[press, would, cover, accurately, honorably, would, far, less, reason, tweet, sadly, dont, know,...</td>\n",
       "      <td>[press, would, cover, accurately, honorably, would, far, le, reason, tweet, sadly, dont, know, e...</td>\n",
       "    </tr>\n",
       "    <tr>\n",
       "      <th>1</th>\n",
       "      <td>I am thrilled to nominate Dr. @RealBenCarson as our next Secretary of the US Dept. of Housing an...</td>\n",
       "      <td>Yes</td>\n",
       "      <td>[thrilled, nominate, dr, realbencarson, next, secretary, us, dept, housing, urban, development, ...</td>\n",
       "      <td>[thrilled, nominate, dr, realbencarson, next, secretary, u, dept, housing, urban, development, h...</td>\n",
       "    </tr>\n",
       "    <tr>\n",
       "      <th>2</th>\n",
       "      <td>their country (the U.S. doesn't tax them) or to build a massive military complex in the middle o...</td>\n",
       "      <td>Yes</td>\n",
       "      <td>[country, us, doesnt, tax, build, massive, military, complex, middle, south, china, sea, dont, t...</td>\n",
       "      <td>[country, u, doesnt, tax, build, massive, military, complex, middle, south, china, sea, dont, th...</td>\n",
       "    </tr>\n",
       "    <tr>\n",
       "      <th>3</th>\n",
       "      <td>Did China ask us if it was OK to devalue their currency (making it hard for our companies to com...</td>\n",
       "      <td>Yes</td>\n",
       "      <td>[china, ask, us, ok, devalue, currency, making, hard, companies, compete, heavily, tax, products...</td>\n",
       "      <td>[china, ask, u, ok, devalue, currency, making, hard, company, compete, heavily, tax, product, go...</td>\n",
       "    </tr>\n",
       "    <tr>\n",
       "      <th>4</th>\n",
       "      <td>.@FoxNews will be re-running \"Objectified: Donald Trump,\" the ratings hit produced by the great ...</td>\n",
       "      <td>Yes</td>\n",
       "      <td>[foxnews, rerunning, objectified, donald, trump, ratings, hit, produced, great, harvey, levin, t...</td>\n",
       "      <td>[foxnews, rerunning, objectified, donald, trump, rating, hit, produced, great, harvey, levin, tm...</td>\n",
       "    </tr>\n",
       "    <tr>\n",
       "      <th>5</th>\n",
       "      <td>The Green Party just dropped its recount suit in Pennsylvania and is losing votes in Wisconsin r...</td>\n",
       "      <td>Yes</td>\n",
       "      <td>[green, party, dropped, recount, suit, pennsylvania, losing, votes, wisconsin, recount, stein, s...</td>\n",
       "      <td>[green, party, dropped, recount, suit, pennsylvania, losing, vote, wisconsin, recount, stein, sc...</td>\n",
       "    </tr>\n",
       "    <tr>\n",
       "      <th>6</th>\n",
       "      <td>expensive mistake! THE UNITED STATES IS OPEN FOR BUSINESS</td>\n",
       "      <td>Yes</td>\n",
       "      <td>[expensive, mistake, united, states, open, business]</td>\n",
       "      <td>[expensive, mistake, united, state, open, business]</td>\n",
       "    </tr>\n",
       "    <tr>\n",
       "      <th>7</th>\n",
       "      <td>these companies are able to move between all 50 states, with no tax or tariff being charged. Ple...</td>\n",
       "      <td>Yes</td>\n",
       "      <td>[companies, able, move, 50, states, tax, tariff, charged, please, forewarned, prior, making, ]</td>\n",
       "      <td>[company, able, move, 50, state, tax, tariff, charged, please, forewarned, prior, making, ]</td>\n",
       "    </tr>\n",
       "    <tr>\n",
       "      <th>8</th>\n",
       "      <td>wanting to sell their product, cars, A.C. units etc., back across the border. This tax will make...</td>\n",
       "      <td>Yes</td>\n",
       "      <td>[wanting, sell, product, cars, ac, units, etc, back, across, border, tax, make, leaving, financi...</td>\n",
       "      <td>[wanting, sell, product, car, ac, unit, etc, back, across, border, tax, make, leaving, financial...</td>\n",
       "    </tr>\n",
       "    <tr>\n",
       "      <th>9</th>\n",
       "      <td>without retribution or consequence, is WRONG! There will be a tax on our soon to be strong borde...</td>\n",
       "      <td>Yes</td>\n",
       "      <td>[without, retribution, consequence, wrong, tax, soon, strong, border, 35, companies, ]</td>\n",
       "      <td>[without, retribution, consequence, wrong, tax, soon, strong, border, 35, company, ]</td>\n",
       "    </tr>\n",
       "  </tbody>\n",
       "</table>\n",
       "</div>"
      ],
      "text/plain": [
       "                                                                                             body_text  \\\n",
       "0  If the press would cover me accurately & honorably, I would have far less reason to \"tweet.\" Sad...   \n",
       "1  I am thrilled to nominate Dr. @RealBenCarson as our next Secretary of the US Dept. of Housing an...   \n",
       "2  their country (the U.S. doesn't tax them) or to build a massive military complex in the middle o...   \n",
       "3  Did China ask us if it was OK to devalue their currency (making it hard for our companies to com...   \n",
       "4  .@FoxNews will be re-running \"Objectified: Donald Trump,\" the ratings hit produced by the great ...   \n",
       "5  The Green Party just dropped its recount suit in Pennsylvania and is losing votes in Wisconsin r...   \n",
       "6                                            expensive mistake! THE UNITED STATES IS OPEN FOR BUSINESS   \n",
       "7  these companies are able to move between all 50 states, with no tax or tariff being charged. Ple...   \n",
       "8  wanting to sell their product, cars, A.C. units etc., back across the border. This tax will make...   \n",
       "9  without retribution or consequence, is WRONG! There will be a tax on our soon to be strong borde...   \n",
       "\n",
       "  label  \\\n",
       "0   Yes   \n",
       "1   Yes   \n",
       "2   Yes   \n",
       "3   Yes   \n",
       "4   Yes   \n",
       "5   Yes   \n",
       "6   Yes   \n",
       "7   Yes   \n",
       "8   Yes   \n",
       "9   Yes   \n",
       "\n",
       "                                                                                      body_text_nostop  \\\n",
       "0  [press, would, cover, accurately, honorably, would, far, less, reason, tweet, sadly, dont, know,...   \n",
       "1  [thrilled, nominate, dr, realbencarson, next, secretary, us, dept, housing, urban, development, ...   \n",
       "2  [country, us, doesnt, tax, build, massive, military, complex, middle, south, china, sea, dont, t...   \n",
       "3  [china, ask, us, ok, devalue, currency, making, hard, companies, compete, heavily, tax, products...   \n",
       "4  [foxnews, rerunning, objectified, donald, trump, ratings, hit, produced, great, harvey, levin, t...   \n",
       "5  [green, party, dropped, recount, suit, pennsylvania, losing, votes, wisconsin, recount, stein, s...   \n",
       "6                                                 [expensive, mistake, united, states, open, business]   \n",
       "7       [companies, able, move, 50, states, tax, tariff, charged, please, forewarned, prior, making, ]   \n",
       "8  [wanting, sell, product, cars, ac, units, etc, back, across, border, tax, make, leaving, financi...   \n",
       "9               [without, retribution, consequence, wrong, tax, soon, strong, border, 35, companies, ]   \n",
       "\n",
       "                                                                                  body_text_lemmatized  \n",
       "0  [press, would, cover, accurately, honorably, would, far, le, reason, tweet, sadly, dont, know, e...  \n",
       "1  [thrilled, nominate, dr, realbencarson, next, secretary, u, dept, housing, urban, development, h...  \n",
       "2  [country, u, doesnt, tax, build, massive, military, complex, middle, south, china, sea, dont, th...  \n",
       "3  [china, ask, u, ok, devalue, currency, making, hard, company, compete, heavily, tax, product, go...  \n",
       "4  [foxnews, rerunning, objectified, donald, trump, rating, hit, produced, great, harvey, levin, tm...  \n",
       "5  [green, party, dropped, recount, suit, pennsylvania, losing, vote, wisconsin, recount, stein, sc...  \n",
       "6                                                  [expensive, mistake, united, state, open, business]  \n",
       "7          [company, able, move, 50, state, tax, tariff, charged, please, forewarned, prior, making, ]  \n",
       "8  [wanting, sell, product, car, ac, unit, etc, back, across, border, tax, make, leaving, financial...  \n",
       "9                 [without, retribution, consequence, wrong, tax, soon, strong, border, 35, company, ]  "
      ]
     },
     "execution_count": 14,
     "metadata": {},
     "output_type": "execute_result"
    }
   ],
   "source": [
    "def lemmatizing(tokenized_text):\n",
    "    text = [wn.lemmatize(word) for word in tokenized_text]\n",
    "    return text\n",
    "\n",
    "data['body_text_lemmatized'] = data['body_text_nostop'].apply(lambda x: lemmatizing(x))\n",
    "\n",
    "data.head(10)"
   ]
  },
  {
   "cell_type": "markdown",
   "metadata": {},
   "source": [
    "# Word Cloud "
   ]
  },
  {
   "cell_type": "code",
   "execution_count": 15,
   "metadata": {},
   "outputs": [],
   "source": [
    "# Start with loading all necessary libraries\n",
    "import numpy as np\n",
    "import pandas as pd\n",
    "from os import path\n",
    "from PIL import Image\n",
    "from wordcloud import WordCloud, STOPWORDS, ImageColorGenerator\n",
    "\n",
    "import matplotlib.pyplot as plt\n"
   ]
  },
  {
   "cell_type": "code",
   "execution_count": 16,
   "metadata": {},
   "outputs": [
    {
     "data": {
      "text/html": [
       "<div>\n",
       "<style scoped>\n",
       "    .dataframe tbody tr th:only-of-type {\n",
       "        vertical-align: middle;\n",
       "    }\n",
       "\n",
       "    .dataframe tbody tr th {\n",
       "        vertical-align: top;\n",
       "    }\n",
       "\n",
       "    .dataframe thead th {\n",
       "        text-align: right;\n",
       "    }\n",
       "</style>\n",
       "<table border=\"1\" class=\"dataframe\">\n",
       "  <thead>\n",
       "    <tr style=\"text-align: right;\">\n",
       "      <th></th>\n",
       "      <th>body_text</th>\n",
       "      <th>label</th>\n",
       "    </tr>\n",
       "  </thead>\n",
       "  <tbody>\n",
       "    <tr>\n",
       "      <th>0</th>\n",
       "      <td>If the press would cover me accurately &amp; honorably, I would have far less reason to \"tweet.\" Sad...</td>\n",
       "      <td>Yes</td>\n",
       "    </tr>\n",
       "    <tr>\n",
       "      <th>1</th>\n",
       "      <td>I am thrilled to nominate Dr. @RealBenCarson as our next Secretary of the US Dept. of Housing an...</td>\n",
       "      <td>Yes</td>\n",
       "    </tr>\n",
       "    <tr>\n",
       "      <th>2</th>\n",
       "      <td>their country (the U.S. doesn't tax them) or to build a massive military complex in the middle o...</td>\n",
       "      <td>Yes</td>\n",
       "    </tr>\n",
       "    <tr>\n",
       "      <th>3</th>\n",
       "      <td>Did China ask us if it was OK to devalue their currency (making it hard for our companies to com...</td>\n",
       "      <td>Yes</td>\n",
       "    </tr>\n",
       "    <tr>\n",
       "      <th>4</th>\n",
       "      <td>.@FoxNews will be re-running \"Objectified: Donald Trump,\" the ratings hit produced by the great ...</td>\n",
       "      <td>Yes</td>\n",
       "    </tr>\n",
       "  </tbody>\n",
       "</table>\n",
       "</div>"
      ],
      "text/plain": [
       "                                                                                             body_text  \\\n",
       "0  If the press would cover me accurately & honorably, I would have far less reason to \"tweet.\" Sad...   \n",
       "1  I am thrilled to nominate Dr. @RealBenCarson as our next Secretary of the US Dept. of Housing an...   \n",
       "2  their country (the U.S. doesn't tax them) or to build a massive military complex in the middle o...   \n",
       "3  Did China ask us if it was OK to devalue their currency (making it hard for our companies to com...   \n",
       "4  .@FoxNews will be re-running \"Objectified: Donald Trump,\" the ratings hit produced by the great ...   \n",
       "\n",
       "  label  \n",
       "0   Yes  \n",
       "1   Yes  \n",
       "2   Yes  \n",
       "3   Yes  \n",
       "4   Yes  "
      ]
     },
     "execution_count": 16,
     "metadata": {},
     "output_type": "execute_result"
    }
   ],
   "source": [
    "data = pd.read_excel('tweets.xlsx',0)\n",
    "data.columns =['body_text','label']\n",
    "data.head()"
   ]
  },
  {
   "cell_type": "code",
   "execution_count": 17,
   "metadata": {},
   "outputs": [
    {
     "name": "stdout",
     "output_type": "stream",
     "text": [
      "If the press would cover me accurately & honorably, I would have far less reason to \"tweet.\" Sadly, I don't know if that will ever happen!\n"
     ]
    }
   ],
   "source": [
    "# Start with one review:\n",
    "text = data.body_text[0]\n",
    "print(text)\n",
    "# Create and generate a word cloud image:\n",
    "wordcloud = WordCloud().generate(text)"
   ]
  },
  {
   "cell_type": "code",
   "execution_count": 18,
   "metadata": {},
   "outputs": [
    {
     "data": {
      "image/png": "[encoded data removed]",
      "text/plain": [
       "<Figure size 432x288 with 1 Axes>"
      ]
     },
     "metadata": {
      "needs_background": "light"
     },
     "output_type": "display_data"
    }
   ],
   "source": [
    "# lower max_font_size, change the maximum number of word and lighten the background:\n",
    "wordcloud = WordCloud(max_font_size=50, max_words=100, background_color=\"white\").generate(text)\n",
    "plt.figure()\n",
    "plt.imshow(wordcloud, interpolation=\"bilinear\")\n",
    "plt.axis(\"off\")\n",
    "plt.show()"
   ]
  },
  {
   "cell_type": "code",
   "execution_count": 19,
   "metadata": {},
   "outputs": [
    {
     "name": "stdout",
     "output_type": "stream",
     "text": [
      "There are 32531 words in the combination of all review.\n"
     ]
    }
   ],
   "source": [
    "text = \" \".join(review for review in data.body_text)\n",
    "\"\".join([word for word in text if word not in string.punctuation])\n",
    "print (\"There are {} words in the combination of all review.\".format(len(text)))"
   ]
  },
  {
   "cell_type": "code",
   "execution_count": 20,
   "metadata": {},
   "outputs": [
    {
     "data": {
      "image/png": "[encoded data removed]",
      "text/plain": [
       "<Figure size 432x288 with 1 Axes>"
      ]
     },
     "metadata": {
      "needs_background": "light"
     },
     "output_type": "display_data"
    }
   ],
   "source": [
    "# Create stopword list:\n",
    "stopwords = set(STOPWORDS)\n",
    "\n",
    "# Generate a word cloud image\n",
    "wordcloud = WordCloud(stopwords=stopwords, background_color=\"white\").generate(text)\n",
    "\n",
    "# Display the generated image:\n",
    "# the matplotlib way:\n",
    "plt.imshow(wordcloud, interpolation='bilinear')\n",
    "plt.axis(\"off\")\n",
    "plt.show()"
   ]
  },
  {
   "cell_type": "code",
   "execution_count": 99,
   "metadata": {},
   "outputs": [
    {
     "data": {
      "text/plain": [
       "<wordcloud.wordcloud.WordCloud at 0x13bf1908>"
      ]
     },
     "execution_count": 99,
     "metadata": {},
     "output_type": "execute_result"
    }
   ],
   "source": [
    "# Save the image in the img folder:\n",
    "wordcloud.to_file(\"first_review.png\")"
   ]
  },
  {
   "cell_type": "code",
   "execution_count": 100,
   "metadata": {},
   "outputs": [
    {
     "data": {
      "text/html": [
       "<div>\n",
       "<style scoped>\n",
       "    .dataframe tbody tr th:only-of-type {\n",
       "        vertical-align: middle;\n",
       "    }\n",
       "\n",
       "    .dataframe tbody tr th {\n",
       "        vertical-align: top;\n",
       "    }\n",
       "\n",
       "    .dataframe thead th {\n",
       "        text-align: right;\n",
       "    }\n",
       "</style>\n",
       "<table border=\"1\" class=\"dataframe\">\n",
       "  <thead>\n",
       "    <tr style=\"text-align: right;\">\n",
       "      <th></th>\n",
       "      <th>body_text</th>\n",
       "      <th>label</th>\n",
       "    </tr>\n",
       "  </thead>\n",
       "  <tbody>\n",
       "    <tr>\n",
       "      <th>0</th>\n",
       "      <td>If the press would cover me accurately &amp; honorably, I would have far less reason to \"tweet.\" Sad...</td>\n",
       "      <td>Yes</td>\n",
       "    </tr>\n",
       "    <tr>\n",
       "      <th>1</th>\n",
       "      <td>I am thrilled to nominate Dr. @RealBenCarson as our next Secretary of the US Dept. of Housing an...</td>\n",
       "      <td>Yes</td>\n",
       "    </tr>\n",
       "    <tr>\n",
       "      <th>2</th>\n",
       "      <td>their country (the U.S. doesn't tax them) or to build a massive military complex in the middle o...</td>\n",
       "      <td>Yes</td>\n",
       "    </tr>\n",
       "    <tr>\n",
       "      <th>3</th>\n",
       "      <td>Did China ask us if it was OK to devalue their currency (making it hard for our companies to com...</td>\n",
       "      <td>Yes</td>\n",
       "    </tr>\n",
       "    <tr>\n",
       "      <th>4</th>\n",
       "      <td>.@FoxNews will be re-running \"Objectified: Donald Trump,\" the ratings hit produced by the great ...</td>\n",
       "      <td>Yes</td>\n",
       "    </tr>\n",
       "  </tbody>\n",
       "</table>\n",
       "</div>"
      ],
      "text/plain": [
       "                                                                                             body_text  \\\n",
       "0  If the press would cover me accurately & honorably, I would have far less reason to \"tweet.\" Sad...   \n",
       "1  I am thrilled to nominate Dr. @RealBenCarson as our next Secretary of the US Dept. of Housing an...   \n",
       "2  their country (the U.S. doesn't tax them) or to build a massive military complex in the middle o...   \n",
       "3  Did China ask us if it was OK to devalue their currency (making it hard for our companies to com...   \n",
       "4  .@FoxNews will be re-running \"Objectified: Donald Trump,\" the ratings hit produced by the great ...   \n",
       "\n",
       "  label  \n",
       "0   Yes  \n",
       "1   Yes  \n",
       "2   Yes  \n",
       "3   Yes  \n",
       "4   Yes  "
      ]
     },
     "execution_count": 100,
     "metadata": {},
     "output_type": "execute_result"
    }
   ],
   "source": [
    "import pandas as pd\n",
    "import re\n",
    "import string\n",
    "import nltk\n",
    "pd.set_option('display.max_colwidth', 100)\n",
    "\n",
    "stopwords = nltk.corpus.stopwords.words('english')\n",
    "ps = nltk.PorterStemmer()\n",
    "\n",
    "data = pd.read_excel('tweets.xlsx',0)\n",
    "data.columns =['body_text','label']\n",
    "data.head()"
   ]
  },
  {
   "cell_type": "code",
   "execution_count": 101,
   "metadata": {},
   "outputs": [],
   "source": [
    "def clean_text(text):\n",
    "    text = \"\".join([word.lower() for word in text if word not in string.punctuation])\n",
    "    tokens = re.split('\\W+', text)\n",
    "    text = [ps.stem(word) for word in tokens if word not in stopwords]\n",
    "    return text"
   ]
  },
  {
   "cell_type": "code",
   "execution_count": 102,
   "metadata": {},
   "outputs": [
    {
     "name": "stdout",
     "output_type": "stream",
     "text": [
      "(265, 1288)\n",
      "['', '100', '10am', '116', '1172016', '118', '11816', '11a', '11pm', '12', '12116', '1230', '12pm', '15', '24', '240', '241st', '25', '28', '2pm', '3', '300', '306', '33000', '35', '3pm', '3rd', '4', '400pm', '45', '46', '4p', '4pm', '50', '530pm', '6', '60minut', '6day', '6pm', '700', '700pm', '7p', '7pm', '8', '800', '8pme', '8th', '900', '930p', '930pm', '945pm', 'abc', 'abil', 'abl', 'ac', 'accept', 'accomplish', 'accord', 'accur', 'acquir', 'across', 'act', 'actual', 'addit', 'advis', 'advisor', 'affect', 'afternoon', 'ago', 'agre', 'ahead', 'aid', 'air', 'albuquerqu', 'alienssav', 'allow', 'alreadi', 'also', 'alway', 'amaz', 'ambassador', 'ambush', 'america', 'americafirst', 'american', 'amnesti', 'announc', 'anoth', 'answer', 'anthonywein', 'anymor', 'anyon', 'apolog', 'appal', 'appreci', 'arabia', 'arena', 'arizona', 'arlen', 'arm', 'around', 'ask', 'attack', 'attorney', 'australia', 'avail', 'avoid', 'award', 'away', 'back', 'bad', 'badli', 'baldwin', 'bank', 'base', 'basketbal', 'beauti', 'bedminst', 'begin', 'behavior', 'believ', 'bemoan', 'ben', 'best', 'betray', 'better', 'bia', 'bias', 'big', 'bigger', 'bill', 'billion', 'billygraham', 'birthday', 'blazingthi', 'blowup', 'blue', 'bobbi', 'boldli', 'bombshel', 'border', 'boy', 'brazil', 'break', 'bring', 'britain', 'brzezinski', 'bu', 'build', 'buri', 'burn', 'bush', 'busi', 'cabinet', 'california', 'call', 'camera', 'camp', 'campaign', 'cancel', 'candid', 'cannot', 'cant', 'car', 'career', 'carolina', 'carrier', 'carson', 'cartel', 'case', 'cast', 'castro', 'cbsnew', 'cedar', 'certifi', 'ch', 'chairman', 'challeng', 'championship', 'chanc', 'chang', 'chao', 'charg', 'chariti', 'charlott', 'chemistri', 'children', 'china', 'choic', 'choos', 'chuck', 'cia', 'cincinnati', 'cissi', 'cissieglynch', 'citi', 'citizenship', 'class', 'classifi', 'clearanc', 'clearli', 'clinton', 'close', 'cnn', 'co', 'coach', 'coffer', 'cold', 'colleg', 'colorado', 'come', 'comeback', 'comey', 'compani', 'compet', 'complaint', 'complet', 'complex', 'comput', 'conced', 'concern', 'concord', 'condit', 'condition', 'condol', 'confer', 'confid', 'confirm', 'conflict', 'congratul', 'congratulatori', 'congress', 'congression', 'congressman', 'consequ', 'consid', 'cont', 'continu', 'contribut', 'convincingli', 'corp', 'corrupt', 'corrupthillari', 'cost', 'countr', 'countri', 'cover', 'coverag', 'crack', 'craft', 'crash', 'creat', 'credit', 'crimin', 'critic', 'crook', 'crookedhillari', 'crowd', 'cuba', 'cuban', 'cubanamerican', 'currenc', 'dallaspolic', 'danscavino', 'darrellissa', 'daughter', 'day', 'dc', 'dead', 'deal', 'debat', 'decad', 'decemb', 'decid', 'decis', 'deduct', 'deepest', 'defeat', 'defens', 'definit', 'delay', 'delet', 'deliv', 'dem', 'democraci', 'democrat', 'demor', 'denver', 'depart', 'deplorablecbtp', 'deport', 'depress', 'dept', 'despit', 'detroitnew', 'devalu', 'develop', 'devic', 'didnt', 'differ', 'difficult', 'direct', 'director', 'disast', 'discoveri', 'discuss', 'dishonest', 'ditka', 'djt', 'document', 'doesnt', 'dog', 'doj', 'dollar', 'donald', 'donaldjtrumpjr', 'donaldtrump', 'done', 'donna', 'dont', 'dorton', 'doubt', 'dozen', 'dr', 'drain', 'draintheswamp', 'dream', 'drop', 'drudgereport', 'drug', 'duckdynasti', 'dump', 'earli', 'easier', 'easili', 'elain', 'elect', 'election2', 'electionday', 'electionnight', 'elector', 'email', 'embarrass', 'emerg', 'employe', 'end', 'enjoy', 'enough', 'entir', 'equal', 'equip', 'eric', 'ericgreiten', 'erictrump', 'especi', 'etc', 'evangel', 'even', 'ever', 'everi', 'everyon', 'evid', 'excit', 'exec', 'expect', 'expens', 'express', 'face', 'facebook', 'fact', 'factori', 'fail', 'fair', 'fals', 'famili', 'fantast', 'far', 'father', 'favor', 'fbi', 'feedback', 'feel', 'fidel', 'fight', 'fiiibust', 'fill', 'final', 'finalist', 'financi', 'find', 'fire', 'first', 'fit', 'fix', 'flag', 'fli', 'florida', 'focu', 'follow', 'fool', 'forc', 'ford', 'foreign', 'forev', 'forewarn', 'forg', 'forgotten', 'format', 'forward', 'found', 'foundat', 'foxandfriend', 'foxnew', 'fraction', 'fraud', 'free', 'fresh', 'friday', 'friend', 'front', 'frontier', 'fulli', 'fume', 'funni', 'futur', 'game', 'gang', 'garner', 'gave', 'gener', 'geneva', 'geniu', 'georg', 'get', 'give', 'go', 'gold', 'golden', 'gone', 'good', 'googl', 'got', 'gotten', 'gov', 'govern', 'governor', 'govt', 'graham', 'grand', 'grate', 'gratitud', 'great', 'greatli', 'greeley', 'green', 'griftersinchief', 'group', 'guilti', 'guy', 'hack', 'hamilton', 'hampshir', 'hand', 'handl', 'happen', 'happi', 'harass', 'hard', 'harri', 'harvey', 'head', 'healthcar', 'hear', 'heard', 'heavili', 'help', 'henc', 'heroworldchalleng', 'hershey', 'hey', 'high', 'highli', 'highonhillcrest', 'hillari', 'hillarycarefail', 'hillaryclinton', 'histori', 'hit', 'hold', 'honesti', 'honor', 'hook', 'hope', 'horrifi', 'hour', 'hous', 'howev', 'hrc', 'ht', 'http', 'httpstc', 'httpstco09asrbwqrv', 'httpstco0lje9qbnlh', 'httpstco0sa7huoop1', 'httpstco1gscfnav4l', 'httpstco2mdqcs6cob', 'httpstco34attgictz', 'httpstco51emq7tffa', 'httpstco5fmgdhazxb', 'httpstco6bqtvoty5c', 'httpstco6gwgmcv23z', 'httpstco6l2ild6r8h', 'httpstco6qoo7fzsvf', 'httpstco6rvuduehzq', 'httpstco6zjzrbflst', 'httpstco7ch8zngdoa', 'httpstco7dcshokuzc', 'httpstco7j4mbn1waf', 'httpstco7scol4vqlm', 'httpstco8eelqk2wuw', 'httpstco8uirhgyrsl', 'httpstco93l7jfdmxj', 'httpstco9bqgvknnrt', 'httpstcoa1ovhcrt6t', 'httpstcoa3x71q6sg2', 'httpstcoa4eehocbg', 'httpstcoa7t5qn2iqw', 'httpstcoahltfg7u4i', 'httpstcoai2htiruzr', 'httpstcobcerctspdf', 'httpstcobiseabesv', 'httpstcoblmkzq8svk', 'httpstcobsugvinnf1', 'httpstcobvef9cc7o7', 'httpstcocebxowsnyp', 'httpstcocmxeqshudj', 'httpstcocnihgkjp0v', 'httpstcocsdgkcfyrl', 'httpstcocz1qmzcxwo', 'httpstcod29dlingst', 'httpstcodeoxv6os3b', 'httpstcodikmsntlc2', 'httpstcodrewbh7zvd', 'httpstcoe8saxijrxj', 'httpstcoeclecm3nmw', 'httpstcoeclecmkylw', 'httpstcoehtgiepfsm', 'httpstcoeix7sspo2z', 'httpstcoej0lmmk3yu', 'httpstcoek8cn3cgtr', 'httpstcoepqrxha1cm', 'httpstcoeuo0kewx1i', 'httpstcoevbp0xespn', 'httpstcofvthc7yil6', 'httpstcofzhoncih21', 'httpstcogaxowvi0xa', 'httpstcogkbkkmtudn', 'httpstcogn7byfld9k', 'httpstcogqzllxcenk', 'httpstcogtpkj4xiz6', 'httpstcogtuncqhlyx', 'httpstcogy5pgkadow', 'httpstcohfihperfgz', 'httpstcohfujerzbod', 'httpstcohiwqzvhv6m', 'httpstcohp88anrfgk', 'httpstcohsi4qhqtv1', 'httpstcohtgpxfpwej', 'httpstcohvpjw6qeq2', 'httpstcoig62kjkkvl', 'httpstcoiusxk4n9w7', 'httpstcoiyxwip0rvd', 'httpstcojdgcyjvjpk', 'httpstcojwfgi1vlww', 'httpstcojyimiibqkb', 'httpstcojzzfquznyh', 'httpstcok2rsgt2zh5', 'httpstcok5kgxpr2wa', 'httpstcokequujeo1b', 'httpstcokluudkimvn', 'httpstcoknzraeulzo', 'httpstcokpq5ey9vwq', 'httpstcokv624y9uom', 'httpstcokzxb4b156m', 'httpstcolbvnho6t2k', 'httpstcoljktkazsfi', 'httpstcoljygik7mri', 'httpstcoll8qiw9sqw', 'httpstcolpxbqz5axt', 'httpstcolrea7wrmox', 'httpstcolz2dhrxzo4', 'httpstcolzkvfc071z', 'httpstcomawukvbtr8', 'httpstcomhyvqtiq78', 'httpstcomkypop0m', 'httpstcompfocmubgu', 'httpstcomrpag7oziq', 'httpstcomxraxyntji', 'httpstcon9380pvmum', 'httpstconid8qcftwi', 'httpstconq2p4eullu', 'httpstconu39mmlh1t', 'httpstconyvvmoa8wl', 'httpstcoojkudfhp3r', 'httpstcoonrpevzhrw', 'httpstcop2edj2moxi', 'httpstcop3ajiacixk', 'httpstcopdnxxq2jgi', 'httpstcopgfmlp0173', 'httpstcopheycksxq0', 'httpstcopjxelwc5e1', 'httpstcoq43khf7mo', 'httpstcoqbcjzazw6z', 'httpstcoqidbidpat8', 'httpstcoqsukelqmkb', 'httpstcoquzn97ceoq', 'httpstcoqwaejpr79n', 'httpstcoqwaejpzvkn', 'httpstcoqz5al7zvp4', 'httpstcorngcuuqo4x', 'httpstcorpwiyb7aov', 'httpstcory9mggjrxm', 'httpstcosb5irrxjxj', 'httpstcoskz1sphzdz', 'httpstcosvnsnje7uf', 'httpstcot4bf1hrxaa', 'httpstcotsi0yp2ll9', 'httpstcotwigakjs3', 'httpstcoudwj5mxca6', 'httpstcoufdlwtwbeq', 'httpstcoufdvzesdfd', 'httpstcouhrtgs88b5', 'httpstcouiloprten9', 'httpstcouxcazvkb32', 'httpstcouztyay1ba6', 'httpstcovmptslxsct', 'httpstcovmudvi1tx1', 'httpstcowcglh4prs7', 'httpstcowosecjm8sm', 'httpstcowpk7qwpk8z', 'httpstcowtcd108yrv', 'httpstcoxej6szpb12', 'httpstcoxfprnepnz5', 'httpstcoxfprnf7pnf', 'httpstcoy7m8ivu173', 'httpstcoyivcacmkkq', 'httpstcoz68vgp9bvf', 'httpstcozch9crfikm', 'httpstcozgox74ebhw', 'httpstcoznzmwuzpiv', 'httpstcozqjmf4qcwh', 'httpstcozth5cuy26z', 'httpstcozzjbgdzp7', 'hud', 'hw', 'ia', 'ice', 'icymi', 'idea', 'illeg', 'imagin', 'immedi', 'immigr', 'imperson', 'import', 'imposs', 'impress', 'imwithy', 'inaccur', 'inc', 'incit', 'includ', 'incom', 'incorrectli', 'increas', 'incred', 'indiana', 'indianapoli', 'info', 'insid', 'inspir', 'instead', 'instinct', 'intend', 'intens', 'intent', 'interest', 'intersect', 'interview', 'introduc', 'investig', 'involv', 'iowa', 'isi', 'islam', 'isnt', 'israel', 'ivankatrump', 'ive', 'ivot', 'j', 'jail', 'jame', 'japan', 'jeb', 'jeff', 'jeffzeleni', 'jessebwatt', 'jmoschetti1363', 'job', 'joebowman12', 'john', 'johnatsrs1949', 'join', 'jone', 'journalist', 'js', 'judgement', 'justic', 'kasich', 'keep', 'keithrowland', 'kennedi', 'kentucki', 'kept', 'kind', 'knight', 'know', 'known', 'koster', 'koster4missouri', 'la', 'labor', 'land', 'landslid', 'larg', 'last', 'launch', 'law', 'lawsuit', 'lawyer', 'lead', 'leader', 'leadership', 'learn', 'leav', 'left', 'legal', 'legendari', 'less', 'let', 'letter', 'level', 'levin', 'lie', 'life', 'like', 'lincoln', 'lionheart', 'lisbon', 'live', 'locat', 'long', 'look', 'lose', 'loss', 'lot', 'louisiana', 'love', 'lynch', 'machin', 'mad', 'made', 'maga', 'magax1f1fax1f1f8', 'main', 'major', 'make', 'makeamericagreatagain', 'makeamericagreatagainx1f1fax1f1f8', 'man', 'manchest', 'mandat', 'manhattan', 'mani', 'marin', 'massiv', 'matti', 'may', 'mayorrgiuliani', 'mean', 'meantim', 'medal', 'media', 'meet', 'melania', 'member', 'memo', 'men', 'mess', 'messag', 'met', 'mexico', 'mi', 'mia', 'miami', 'michigan', 'middl', 'mika', 'mike', 'mikep', 'militari', 'million', 'mind', 'minnesota', 'minut', 'missouri', 'mistak', 'mitt', 'mix', 'mnuchin', 'moment', 'monday', 'money', 'morn', 'morocco', 'mostli', 'move', 'movement', 'mr', 'mrtrump', 'much', 'must', 'nasti', 'nation', 'nationwid', 'navi', 'nbcsnl', 'necessari', 'need', 'neera', 'nevada', 'never', 'new', 'newhampshir', 'news', 'next', 'nfl', 'nh', 'nice', 'nigelfarag', 'night', 'nm', 'nobodi', 'nomin', 'nomine', 'noon', 'north', 'noth', 'notic', 'novemb', 'nuclear', 'numer', 'nv', 'ny', 'nytim', 'obama', 'obamacar', 'obamacarefail', 'objectifi', 'offic', 'offici', 'oh', 'ohio', 'ok', 'one', 'onesid', 'onlin', 'open', 'oper', 'oppress', 'order', 'oreillyfactor', 'organ', 'origin', 'orlando', 'outcom', 'outrag', 'outsid', 'oval', 'overflow', 'overr', 'overwhelm', 'owe', 'p', 'pa', 'page', 'part', 'parti', 'passion', 'pathet', 'patriot', 'paulareidcb', 'pay', 'pdpryor1', 'penc', 'pennsylvania', 'pensacola', 'peopl', 'peotu', 'perhap', 'periscop', 'person', 'perspect', 'petraeuswa', 'phenomena', 'phil', 'philrobertson', 'phoenix', 'piersmorgan', 'place', 'placeth', 'plan', 'plant', 'play', 'pleas', 'pledg', 'plu', 'pm', 'podesta', 'point', 'polic', 'polici', 'polit', 'poll', 'poor', 'popular', 'posit', 'postelect', 'potenti', 'power', 'prais', 'pray', 'prayer', 'premium', 'presid', 'presidentelect', 'presidenti', 'press', 'price', 'prior', 'prison', 'privat', 'probe', 'problem', 'process', 'produc', 'product', 'profession', 'progress', 'promis', 'proof', 'properti', 'protect', 'protest', 'proud', 'prove', 'push', 'pynanc', 'quest', 'question', 'r', 'radic', 'radio', 'rais', 'ralli', 'rallyforriley', 'rapid', 'rate', 'rather', 'ravenrantz', 'reach', 'readi', 'real', 'realbencarson', 'realdonaldtrump', 'realiti', 'realli', 'reason', 'reciev', 'record', 'recount', 'reduc', 'refuge', 'refus', 'regard', 'regul', 'reinc', 'reinforc', 'relat', 'relationship', 'releas', 'rememb', 'reno', 'reopen', 'repeal', 'replac', 'report', 'repres', 'rerun', 'respect', 'restor', 'result', 'retribut', 'return', 'reveal', 'rexnord', 'rickett', 'rig', 'right', 'romney', 'ross', 'rt', 'rude', 'run', 'runnin', 'russia', 'sad', 'sadli', 'safe', 'said', 'sarasota', 'saturday', 'saucier', 'saudi', 'save', 'say', 'saysgabriel', 'scam', 'scandal', 'scheme', 'schumer', 'scottwalk', 'scranton', 'sdcritic', 'sea', 'seal', 'seat', 'second', 'secret', 'secretari', 'secur', 'see', 'seema', 'seen', 'select', 'self', 'sell', 'selma', 'senat', 'sent', 'separ', 'seriou', 'serious', 'serv', 'server', 'servic', 'session', 'set', 'settl', 'shame', 'share', 'show', 'sinc', 'six', 'slh', 'small', 'smaller', 'smarter', 'smoothli', 'socal', 'somali', 'somebodi', 'someth', 'son', 'soon', 'south', 'southeastern', 'speak', 'special', 'speech', 'spent', 'spoken', 'springfield', 'stab', 'stand', 'start', 'state', 'statew', 'stay', 'stein', 'stevedooci', 'steven', 'still', 'stop', 'stori', 'storm', 'straighten', 'stream', 'strong', 'subpoena', 'subscrib', 'substantiali', 'success', 'suffer', 'suffici', 'suit', 'support', 'supportstrump', 'surreal', 'surrog', 'swamp', 'system', 'tabul', 'tactic', 'taiwan', 'take', 'taken', 'talent', 'talk', 'tampa', 'tanden', 'tariff', 'task', 'tast', 'tax', 'team', 'teamtrump', 'tennesse', 'term', 'termin', 'terribl', 'terrorist', 'th', 'thank', 'thankavet', 'thanksgiv', 'thankyoutour2016', 'theater', 'thing', 'think', 'third', 'thought', 'thousand', 'threat', 'thrill', 'thursday', 'ticket', 'tie', 'tiger', 'tigerwood', 'time', 'tlineberg', 'tmz', 'today', 'todd', 'togeth', 'told', 'toledo', 'tom', 'tomorrow', 'tone', 'tonight', 'top', 'tornado', 'total', 'tower', 'tpp', 'trade', 'tragic', 'transit', 'transition2017', 'transport', 'treasur', 'tremend', 'tri', 'trial', 'tripl', 'true', 'truli', 'trump', 'trumptow', 'tv', 'tw', 'tweet', 'twitter', 'two', 'typic', 'u', 'uk', 'unbeliev', 'understand', 'unfair', 'unfit', 'unit', 'univers', 'unleash', 'unsecur', 'unwatch', 'unwil', 'updat', 'upset', 'urban', 'urg', 'us', 'use', 'utah', 'valley', 'van', 'variou', 'vega', 'venezuela', 'verma', 'via', 'vicious', 'victori', 'violenc', 'virginia', 'vision', 'visit', 'visual', 'voic', 'vote', 'voter', 'voterfraud', 'votetrump', 'votetrumppence16', 'vp', 'vpe', 'w', 'wait', 'wall', 'wannab', 'want', 'warn', 'warren', 'warrior', 'washington', 'washingtonpost', 'watc', 'watch', 'wattersworld', 'way', 'weapon', 'week', 'weekend', 'well', 'wellh', 'weve', 'white', 'whole', 'wife', 'wikileak', 'wilbur', 'wildfir', 'wilmington', 'win', 'wisconsin', 'wish', 'without', 'woman', 'women', 'wonder', 'work', 'worker', 'worldonli', 'wors', 'would', 'wow', 'wrong', 'wsj', 'x1f1fax1f1f8', 'year', 'yesterday', 'yet', 'york', 'youv', 'zealand']\n"
     ]
    }
   ],
   "source": [
    "from sklearn.feature_extraction.text import TfidfVectorizer\n",
    "\n",
    "tfidf_vect = TfidfVectorizer(analyzer=clean_text)\n",
    "X_tfidf = tfidf_vect.fit_transform(data['body_text'])\n",
    "print(X_tfidf.shape)\n",
    "print(tfidf_vect.get_feature_names())"
   ]
  },
  {
   "cell_type": "code",
   "execution_count": 21,
   "metadata": {},
   "outputs": [
    {
     "ename": "NameError",
     "evalue": "name 'X_tfidf' is not defined",
     "output_type": "error",
     "traceback": [
      "\u001b[1;31m---------------------------------------------------------------------------\u001b[0m",
      "\u001b[1;31mNameError\u001b[0m                                 Traceback (most recent call last)",
      "\u001b[1;32m<ipython-input-21-538377311863>\u001b[0m in \u001b[0;36m<module>\u001b[1;34m\u001b[0m\n\u001b[1;32m----> 1\u001b[1;33m \u001b[0mdf\u001b[0m \u001b[1;33m=\u001b[0m \u001b[0mpd\u001b[0m\u001b[1;33m.\u001b[0m\u001b[0mDataFrame\u001b[0m\u001b[1;33m(\u001b[0m\u001b[0mX_tfidf\u001b[0m\u001b[1;33m.\u001b[0m\u001b[0mtoarray\u001b[0m\u001b[1;33m(\u001b[0m\u001b[1;33m)\u001b[0m\u001b[1;33m,\u001b[0m\u001b[0mcolumns\u001b[0m\u001b[1;33m=\u001b[0m\u001b[0mtfidf_vect\u001b[0m\u001b[1;33m.\u001b[0m\u001b[0mget_feature_names\u001b[0m\u001b[1;33m(\u001b[0m\u001b[1;33m)\u001b[0m\u001b[1;33m)\u001b[0m\u001b[1;33m\u001b[0m\u001b[1;33m\u001b[0m\u001b[0m\n\u001b[0m\u001b[0;32m      2\u001b[0m \u001b[0mdf\u001b[0m\u001b[1;33m.\u001b[0m\u001b[0mhead\u001b[0m\u001b[1;33m(\u001b[0m\u001b[1;36m10\u001b[0m\u001b[1;33m)\u001b[0m\u001b[1;33m\u001b[0m\u001b[1;33m\u001b[0m\u001b[0m\n",
      "\u001b[1;31mNameError\u001b[0m: name 'X_tfidf' is not defined"
     ]
    }
   ],
   "source": [
    "df = pd.DataFrame(X_tfidf.toarray(),columns=tfidf_vect.get_feature_names())\n",
    "df.head(10)"
   ]
  },
  {
   "cell_type": "code",
   "execution_count": null,
   "metadata": {},
   "outputs": [],
   "source": []
  },
  {
   "cell_type": "code",
   "execution_count": null,
   "metadata": {},
   "outputs": [],
   "source": []
  }
 ],
 "metadata": {
  "kernelspec": {
   "display_name": "Python 3",
   "language": "python",
   "name": "python3"
  },
  "language_info": {
   "codemirror_mode": {
    "name": "ipython",
    "version": 3
   },
   "file_extension": ".py",
   "mimetype": "text/x-python",
   "name": "python",
   "nbconvert_exporter": "python",
   "pygments_lexer": "ipython3",
   "version": "3.7.6"
  }
 },
 "nbformat": 4,
 "nbformat_minor": 2
}
